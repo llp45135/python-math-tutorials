{
 "cells": [
  {
   "cell_type": "markdown",
   "metadata": {},
   "source": [
    "# Week 2: Deep Dive - Visualizing Calculus Concepts\n",
    "\n",
    "**Goal**: Intuitively understand the core concepts of limits and derivatives by writing code and plotting graphs.\n",
    "\n",
    "**Core Philosophy**: Transform abstract mathematical definitions into dynamic, step-by-step processes that can be executed and observed. Code is the bridge between the abstract and the intuitive."
   ]
  },
  {
   "cell_type": "markdown",
   "metadata": {},
   "source": [
    "## Part 1: Visualizing Limits\n",
    "\n",
    "### Background: What is a Limit?\n",
    "\n",
    "The limit is the cornerstone of calculus. Intuitively, the limit of a function or a sequence is the target value that the function's output (or the sequence's terms) **infinitely approaches** as its input **infinitely approaches** a certain value.\n",
    "\n",
    "A computer can't truly handle \"infinity,\" but it can simulate the process by calculating the function's behavior when the input gets \"very, very close\" to a value. If the function's output consistently tends towards a fixed number, we say the \"limit exists.\"\n",
    "\n",
    "In this part, we will use code to \"see\" this approaching process through two classic examples."
   ]
  },
  {
   "cell_type": "code",
   "execution_count": null,
   "metadata": {},
   "outputs": [],
   "source": [
    "import numpy as np\n",
    "import matplotlib.pyplot as plt\n",
    "\n",
    "%matplotlib inline"
   ]
  },
  {
   "cell_type": "markdown",
   "metadata": {},
   "source": [
    "### Task 1 (Sequence Limit): Observing how `(1 + 1/n)^n` approaches `e`\n",
    "\n",
    "One of the most important limits in history is `lim (n->∞) (1 + 1/n)^n = e` (the natural number, approx. 2.718). We will calculate how the value of this sequence changes as n grows from 1 to a large number."
   ]
  },
  {
   "cell_type": "code",
   "execution_count": null,
   "metadata": {},
   "outputs": [],
   "source": [
    "# Exercise: Calculate and observe the trend of the sequence a_n = (1 + 1/n)^n\n",
    "\n",
    "# 1. Create a NumPy array for n, letting it grow from 1 to a large value, e.g., 1000.\n",
    "# Hint: You can use np.arange(start, stop) to generate a sequence of integers.\n",
    "n_values = np.arange(1, 1001)\n",
    "\n",
    "# 2. Calculate the terms of the sequence a_n based on the formula.\n",
    "# Hint: The power of NumPy is that it can perform math operations on the entire array at once (this is called \"vectorization\").\n",
    "an_values = (1 + 1/n_values)**n_values\n",
    "\n",
    "# 3. Print the last 5 values of the sequence to see if they are getting closer to e (approx. 2.718).\n",
    "# Hint: Python lists and NumPy arrays support \"slicing.\" `[-5:]` gets all elements from the 5th-to-last to the end.\n",
    "print(\"The last 5 values of the sequence are:\")\n",
    "print(an_values[-5:])\n",
    "print(\"\\nFor comparison, the value of e is:\", np.e)\n",
    "\n",
    "# 4. (Optional) Plot a graph to visualize the convergence more intuitively.\n",
    "plt.figure(figsize=(10, 6))\n",
    "plt.plot(n_values, an_values, label='(1 + 1/n)^n')\n",
    "# Use axhline (axis horizontal line) to draw a horizontal reference line at e.\n",
    "plt.axhline(y=np.e, color='r', linestyle='--', label='e (The Natural Number)')\n",
    "plt.title(\"Convergence of the Sequence (1 + 1/n)^n\")\n",
    "plt.xlabel(\"n\")\n",
    "plt.ylabel(\"Value of a_n\")\n",
    "plt.legend()\n",
    "plt.grid(True)\n",
    "plt.show()"
   ]
  },
  {
   "cell_type": "markdown",
   "metadata": {},
   "source": [
    "### Task 2 (Function Limit): Visualizing `sin(x)/x`\n",
    "\n",
    "Another famous limit is `lim (x->0) sin(x)/x = 1`. Note that the function is undefined at x=0 (because the denominator cannot be zero), but we can observe what happens to the function's value as x gets infinitely close to 0."
   ]
  },
  {
   "cell_type": "code",
   "execution_count": null,
   "metadata": {},
   "outputs": [],
   "source": [
    "# Exercise: Observe the change in f(x) = sin(x)/x as x approaches 0\n",
    "\n",
    "# 1. Generate a sequence of x-values that get progressively closer to 0 from the positive side.\n",
    "# Hint: np.array([...]) can create an array. 1e-3 is scientific notation for 0.001.\n",
    "x_values = np.array([1, 0.1, 0.01, 1e-3, 1e-4, 1e-5, 1e-6])\n",
    "\n",
    "# 2. Calculate the corresponding values of f(x) = sin(x)/x.\n",
    "# Hint: np.sin() can operate directly on the entire array.\n",
    "y_values = np.sin(x_values) / x_values\n",
    "\n",
    "# 3. Use zip and a for loop to elegantly print the corresponding x and y values.\n",
    "# Hint: f-strings (f\"...\") are a modern and powerful way to format strings.\n",
    "#       {x:<10} formats the value of x to be left-aligned within a 10-character width for easy viewing.\n",
    "print(\"Value of sin(x)/x as x approaches 0:\")\n",
    "for x, y in zip(x_values, y_values):\n",
    "    print(f\"x = {x:<10}, f(x) = {y}\")"
   ]
  },
  {
   "cell_type": "markdown",
   "metadata": {},
   "source": [
    "---"
   ]
  },
  {
   "cell_type": "markdown",
   "metadata": {},
   "source": [
    "## Part 2: The Geometric Meaning of the Derivative\n",
    "\n",
    "### Background: What is a Derivative? What is a Custom Function?\n",
    "\n",
    "The geometric meaning of a **Derivative** is the **slope of the tangent line** to a function at a specific point. It represents the instantaneous rate of change of the function at that point.\n",
    "\n",
    "We cannot calculate the tangent line directly, but we can approximate it, just like with limits. We take a fixed point P on the function's curve and another moving point Q. The line connecting P and Q is called a **secant line**. As point Q moves along the curve and gets infinitely close to point P, the slope of this secant line will infinitely approach the slope of the tangent line at P—which is the derivative at P.\n",
    "\n",
    "To conveniently repeat calculations of function values, we need to learn about **custom functions**. In Python, we use the `def` keyword to define a reusable block of code. It's like giving a name to a piece of code. We can then call it by its name, give it different inputs (arguments), and have it produce different outputs (return values)."
   ]
  },
  {
   "cell_type": "markdown",
   "metadata": {},
   "source": [
    "### Task: From Secant Line to Tangent Line\n",
    "\n",
    "We will explore the derivative of the function `f(x) = x^2` at the point `P(1, 1)`."
   ]
  },
  {
   "cell_type": "code",
   "execution_count": null,
   "metadata": {},
   "outputs": [],
   "source": [
    "# 1. Define the function\n",
    "# This is a Python function representing f(x) = x^2.\n",
    "# It takes an input x and returns its square.\n",
    "def f(x):\n",
    "    return x**2\n",
    "\n",
    "# 2. Exercise: Complete this function to calculate the secant slope\n",
    "def secant_slope(func, x1, x2):\n",
    "    \"\"\"\n",
    "    Calculates the slope of the secant line connecting two points on a generic function, func.\n",
    "    Args:\n",
    "    - func: A Python function, like the 'f' we defined above.\n",
    "    - x1, x2: The x-coordinates of the two points.\n",
    "    Returns:\n",
    "    - The slope of the secant line.\n",
    "    \"\"\"\n",
    "    # Hint: The definition of slope is (y2 - y1) / (x2 - x1).\n",
    "    # The value of y1 can be obtained by calling func(x1).\n",
    "    # The value of y2 can be obtained by calling func(x2).\n",
    "    y1 = func(x1)\n",
    "    y2 = func(x2)\n",
    "    slope = (y2 - y1) / (x2 - x1)\n",
    "    return slope\n",
    "\n",
    "# 3. Observe the approximation process\n",
    "# We fix point P at (1, f(1)) and let point Q (x_q, f(x_q)) get closer and closer to P.\n",
    "p_x = 1\n",
    "# Create a list of x_q values that get progressively closer to p_x\n",
    "x_q_values = [2, 1.5, 1.1, 1.01, 1.001, 1.0001]\n",
    "\n",
    "print(f\"Observing the approximation of the tangent slope for f(x)=x^2 at x={p_x}:\")\n",
    "for x_q in x_q_values:\n",
    "    # Use the function we just completed to calculate the slope\n",
    "    slope = secant_slope(f, p_x, x_q)\n",
    "    print(f\"When Q's x-coordinate is {x_q:<8}, the secant slope is: {slope:.4f}\")\n",
    "\n",
    "print(\"\\nTheoretically, the derivative (tangent slope) of f(x)=x^2 at x=1 is 2. Our calculation is approaching it!\")"
   ]
  },
  {
   "cell_type": "markdown",
   "metadata": {},
   "source": [
    "### 💡 AI-Assisted Exercise: Code Refactoring\n",
    "\n",
    "The `for` loop we wrote for the \"approximation process\" is very useful. However, if we wanted to perform the same analysis on another function (e.g., `g(x)=x^3`) at another point (e.g., `x=2`), we would have to copy and paste that block of code, which is not elegant.\n",
    "\n",
    "**Task**: Can you encapsulate this \"approximation process\" into a general-purpose function as well?\n",
    "\n",
    "**Hint**: Try asking the AI a question like this to learn how to abstract functionality into a function:\n",
    "> \"Please help me refactor this Python code into a more general-purpose function. I want the new function to accept a function name (like `f`), a fixed point (like `p_x`), and a list of approaching points (like `x_q_values`) as input, and then print the entire approximation process.\"\n",
    "\n",
    "In the cell below, try to define and test your new function."
   ]
  },
  {
   "cell_type": "code",
   "execution_count": null,
   "metadata": {},
   "outputs": [],
   "source": [
    "# Define your general approximation function here and use it to re-analyze f(x)=x^2 at x=1\n"
   ]
  },
  {
   "cell_type": "markdown",
   "metadata": {},
   "source": [
    "---"
   ]
  },
  {
   "cell_type": "markdown",
   "metadata": {},
   "source": [
    "## ✅ Week 2 Milestone\n",
    "\n",
    "**Your Task**: Using your knowledge of **custom functions** from this week, calculate and print the approximation process for the secant slope of `g(x)=x^3` at the point `x=2`.\n",
    "\n",
    "**Requirements**:\n",
    "1. Define a new function for `g(x) = x^3`.\n",
    "2. **Reuse** the `secant_slope` function you wrote earlier. Do not write it again!\n",
    "3. Let another point approach from `x=3` down to `x=2.001`, and observe how the result approaches the theoretical derivative value of 12."
   ]
  },
  {
   "cell_type": "code",
   "execution_count": null,
   "metadata": {},
   "outputs": [],
   "source": [
    "# Write your milestone code here\n",
    "\n",
    "# 1. Define a new function g(x) = x^3\n",
    "\n",
    "# 2. Define the fixed point and the list of approaching points\n",
    "\n",
    "# 3. Use a for loop and your secant_slope function to calculate and print the results\n"
   ]
  },
  {
   "cell_type": "markdown",
   "metadata": {},
   "source": [
    "---"
   ]
  },
  {
   "cell_type": "markdown",
   "metadata": {},
   "source": [
    "## 🏆 Challenger Task (Optional)\n",
    "\n",
    "**Task**: Use code and graphs to explore and verify the **Mean Value Theorem**.\n",
    "\n",
    "**Background**: The theorem states that if a function is continuous on a closed interval `[a, b]` and differentiable on the open interval `(a, b)`, then there is at least one point `c` in `(a, b)` where the instantaneous rate of change (the derivative) is equal to the average rate of change over the entire interval. Geometrically, this means there's a point `c` where the tangent line is parallel to the secant line connecting the endpoints `(a, f(a))` and `(b, f(b))`.\n",
    "\n",
    "**Exploration Step-by-Step Hints**:\n",
    "1. Choose a function, like `h(x) = x^3 - 5*x`, and an interval, like `[-1, 3]`.\n",
    "2. Use your `secant_slope` function to calculate the slope `k` of the secant line connecting the endpoints.\n",
    "3. **AI Exploration Prompt**: How do you find the derivative of a function in Python? You can ask the AI: “How to compute the derivative of a function in Python using the SymPy library?” SymPy is a powerful library for symbolic mathematics that we will officially learn next week. You can get a head start!\n",
    "4. Find a point `c` in the interval `(-1, 3)` where the derivative `h'(c)` is equal to `k`.\n",
    "5. **Visualization**: On the same graph, plot the original function `h(x)`, the secant line, and the tangent line at point `c`. You will see that they are parallel!"
   ]
  },
  {
   "cell_type": "code",
   "execution_count": null,
   "metadata": {},
   "outputs": [],
   "source": [
    "# Write your challenger task code here\n"
   ]
  }
 ],
 "metadata": {
  "kernelspec": {
   "display_name": "Python 3",
   "language": "python",
   "name": "python3"
  },
  "language_info": {
   "codemirror_mode": {
    "name": "ipython",
    "version": 3
   },
   "file_extension": ".py",
   "mimetype": "text/x-python",
   "name": "python",
   "nbconvert_exporter": "python",
   "pygments_lexer": "ipython3",
   "version": "3.8.8"
  }
 },
 "nbformat": 4,
 "nbformat_minor": 4
}

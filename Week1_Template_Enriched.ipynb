{
 "cells": [
  {
   "cell_type": "markdown",
   "metadata": {},
   "source": [
    "# Week 1: Laying the Foundation - From Code to Images\n",
    "\n",
    "**Goal**: Become proficient in the Jupyter environment and be able to plot any function you learned in high school using Python and Matplotlib.\n",
    "\n",
    "**Core Philosophy**: Doing > Watching. You must type out every piece of code yourself, then try modifying the parameters to see what happens. Code is meant to be \"played with.\""
   ]
  },
  {
   "cell_type": "markdown",
   "metadata": {},
   "source": [
    "## Part 1: Environment and Basics\n",
    "\n",
    "### Background: What is a Jupyter Notebook?\n",
    "\n",
    "The interface you are using right now is a Jupyter Notebook. Think of it as an \"interactive\" notebook. Traditional code files (like `.py` files) usually require you to write all the code at once and then run it. The power of Jupyter lies in its structure of independent \"cells.\"\n",
    "\n",
    "You can:\n",
    "1.  **Run each cell independently**: This allows you to test code step-by-step and see the results immediately, which is perfect for learning and exploration.\n",
    "2.  **Mix code and text**: You can insert formatted text, mathematical formulas, and even images between your code blocks to take notes, just like this. This makes it an excellent tool for organizing your thoughts and writing analysis reports.\n",
    "\n",
    "We have two main types of cells:\n",
    "-   **Code Cell**: Used to write and run Python code.\n",
    "-   **Markdown Cell**: Used to write formatted text and notes, like this one."
   ]
  },
  {
   "cell_type": "markdown",
   "metadata": {},
   "source": [
    "### Task: My First Math Notebook\n",
    "\n",
    "#### 1.1 Background: What is a Variable?\n",
    "In mathematics, we use symbols (like x, y) to represent numbers. In programming, we use **variables** to do something similar. A variable is like a labeled box where you can store data (like numbers or text) and retrieve it anytime using its label (the variable name).\n",
    "\n",
    "For example, the line `a = 100` means: \"Create a variable named `a` and store the value `100` in it.\""
   ]
  },
  {
   "cell_type": "markdown",
   "metadata": {},
   "source": [
    "#### 1.2 Exercise: Basic Operations\n",
    "In the **code cell** below, practice variable assignment and basic mathematical operations.\n",
    "\n",
    "1.  Calculate `(100 - 2^5) / 5`.\n",
    "2.  Calculate the area of a circle with a radius of 7. The formula for the area of a circle is `π * r^2`."
   ]
  },
  {
   "cell_type": "code",
   "execution_count": null,
   "metadata": {},
   "outputs": [],
   "source": [
    "# Exercise 1: Calculate (100 - 2^5) / 5\n",
    "# Hint: In Python, exponentiation is done using **\n",
    "a = 100\n",
    "b = 2\n",
    "c = 5\n",
    "result1 = (a - b**c) / c\n",
    "print(\"Result of the first exercise is:\", result1)\n",
    "\n",
    "# Exercise 2: Calculate the area of a circle with radius 7\n",
    "# Hint: You'll need the value of pi. The easiest way is to import it from the math library.\n",
    "import math\n",
    "radius = 7\n",
    "area = math.pi * (radius**2)\n",
    "print(\"The area of the circle is:\", area)"
   ]
  },
  {
   "cell_type": "markdown",
   "metadata": {},
   "source": [
    "#### 1.3 Exercise: Writing Math Formulas with LaTeX\n",
    "A cool feature of Markdown cells is their support for writing beautiful mathematical formulas using LaTeX syntax. Just enclose your formula in `$` signs.\n",
    "\n",
    "1.  In the **Markdown cell** below, learn and write the LaTeX formula for a quadratic function: `f(x) = ax^2 + bx + c`.\n",
    "2.  Try writing the formula for the Pythagorean theorem: `a^2 + b^2 = c^2`."
   ]
  },
  {
   "cell_type": "markdown",
   "metadata": {},
   "source": [
    "Please enter your answers here:\n",
    "\n",
    "1. Quadratic function: $f(x) = ax^2 + bx + c$\n",
    "\n",
    "2. Pythagorean theorem: $a^2 + b^2 = c^2$"
   ]
  },
  {
   "cell_type": "markdown",
   "metadata": {},
   "source": [
    "### 💡 Pro Tip: How to Use AI as a Learning Partner\n",
    "\n",
    "You have a powerful assistant: AI! Tools like Gemini, ChatGPT, or Copilot can be incredibly helpful for learning. The key is to learn how to **ask precise questions**, transforming it from a simple \"answer provider\" into a \"partner for exploration and learning.\"\n",
    "\n",
    "**The Golden Rule: Provide Full Context!**\n",
    "\n",
    "*   **Bad Question:** \"My code is broken, fix it.\" (The AI doesn't know your goal, your code, or the error.)\n",
    "*   **Excellent Question:** \"I'm learning Python with Matplotlib. I want to plot the function `y=sin(x)` from -2π to 2π. Here is my code: `[Paste your code here]`. I expected to see a smooth sine wave, but instead, I got this error message: `[Paste the error message here]`. Can you explain what this error means and how I can fix my code?\"\n",
    "\n",
    "A good question always includes:\n",
    "1.  **Your Goal**: What are you trying to achieve?\n",
    "2.  **Your Attempt**: What code have you written?\n",
    "3.  **The Outcome**: What actually happened? (e.g., error message, the plot looks wrong, no output).\n",
    "\n",
    "--- \n",
    "\n",
    "#### AI-Assisted Learning Exercise\n",
    "\n",
    "**Task**: Besides `+`, `-`, `*`, `/`, `**`, what other interesting mathematical operators does Python support? For example, how do you get only the integer part of a division? How do you calculate the remainder?\n",
    "\n",
    "**Hint**: Try asking the AI a question like this:\n",
    "> \"In Python, besides addition, subtraction, multiplication, division, and exponentiation, what are the other basic mathematical operators? Please summarize them in a table and provide a simple example for each.\"\n",
    "\n",
    "Write down what you discover in the Markdown cell below."
   ]
  },
  {
   "cell_type": "markdown",
   "metadata": {},
   "source": [
    "(Write down the new knowledge you learned from the AI here)"
   ]
  },
  {
   "cell_type": "markdown",
   "metadata": {},
   "source": [
    "---"
   ]
  },
  {
   "cell_type": "markdown",
   "metadata": {},
   "source": [
    "## Part 1.5: Python Core Fundamentals Quickstart\n",
    "\n",
    "Before we dive into complex mathematical plotting, we need to master some of Python's most essential building blocks. This section will help you quickly build a foundation in the language."
   ]
  },
  {
   "cell_type": "markdown",
   "metadata": {},
   "source": [
    "### 1. Data Types\n",
    "\n",
    "Python has several data types. Let's focus on the most basic ones for now:\n",
    "- **Integer**: `1`, `100`, `-5`\n",
    "- **Float**: `1.0`, `3.14`, `-0.5` (numbers with decimal points)\n",
    "- **String**: `'Hello'`, `\"Hello, World!\"` (text)\n",
    "- **Boolean**: `True`, `False` (used for logical checks)"
   ]
  },
  {
   "cell_type": "markdown",
   "metadata": {},
   "source": [
    "### 2. Lists\n",
    "\n",
    "A list is an incredibly useful data structure in Python. It's an ordered collection that can hold any type of data. Think of it as a versatile locker where you can add, remove, or modify items at any time.\n",
    "\n",
    "**Exercise**:\n",
    "1. Create a list containing the numbers 1, 3, 5, 7, 9.\n",
    "2. Access and print the third element of the list. (Hint: In Python, indexing starts from 0!)"
   ]
  },
  {
   "cell_type": "code",
   "execution_count": null,
   "metadata": {},
   "outputs": [],
   "source": [
    "# 1. Create a list\n",
    "my_numbers = [1, 3, 5, 7, 9]\n",
    "print(\"My list is:\", my_numbers)\n",
    "\n",
    "# 2. Access the third element (at index 2)\n",
    "third_element = my_numbers[2]\n",
    "print(\"The third element of the list is:\", third_element)"
   ]
  },
  {
   "cell_type": "markdown",
   "metadata": {},
   "source": [
    "### 3. For Loops\n",
    "\n",
    "Loops allow us to repeat a block of code. A `for` loop is often used to iterate over every element in a sequence (like a list).\n",
    "\n",
    "**Exercise**:\n",
    "Iterate through the `my_numbers` list you created above and print the square of each number."
   ]
  },
  {
   "cell_type": "code",
   "execution_count": null,
   "metadata": {},
   "outputs": [],
   "source": [
    "# Iterate through the list and calculate the square\n",
    "print(\"The square of each number in the list is:\")\n",
    "for number in my_numbers:\n",
    "    # This line of code will be executed for each number in the list\n",
    "    print(number**2)"
   ]
  },
  {
   "cell_type": "markdown",
   "metadata": {},
   "source": [
    "### 4. Conditional Statements (If-Else)\n",
    "\n",
    "Conditional statements allow us to decide which block of code to execute based on whether a condition is `True`.\n",
    "\n",
    "**Exercise**:\n",
    "Iterate through the `my_numbers` list again. If a number is greater than 5, print `\"[number] is greater than 5\"`; otherwise, print `\"[number] is less than or equal to 5\"`."
   ]
  },
  {
   "cell_type": "code",
   "execution_count": null,
   "metadata": {},
   "outputs": [],
   "source": [
    "for number in my_numbers:\n",
    "    if number > 5:\n",
    "        print(number, \"is greater than 5\")\n",
    "    else:\n",
    "        print(number, \"is less than or equal to 5\")"
   ]
  },
  {
   "cell_type": "markdown",
   "metadata": {},
   "source": [
    "---"
   ]
  },
  {
   "cell_type": "markdown",
   "metadata": {},
   "source": [
    "## Part 2: Plotting and Functions\n",
    "\n",
    "### Background: What are Libraries?\n",
    "\n",
    "Imagine you're building a house. You don't need to forge your own hammers, nails, and saws from scratch; you can just buy them from a hardware store. In programming, **Libraries** are your \"hardware store.\"\n",
    "\n",
    "They are collections of reusable code written by developers worldwide, designed to solve specific problems. We use the `import` keyword to \"borrow\" these tools.\n",
    "\n",
    "-   **NumPy**: The core library for scientific computing in Python. Its most powerful feature is the `array` data structure, which allows for extremely fast operations on large amounts of numbers. All our subsequent mathematical calculations will rely on it.\n",
    "-   **Matplotlib**: The most famous and fundamental plotting library in Python. It allows you to \"visualize\" data and functions into various charts and graphs.\n",
    "\n",
    "Run the cell below to import these two core tools. `as np` and `as plt` are standard community conventions, meaning we give them shorter aliases for convenience."
   ]
  },
  {
   "cell_type": "code",
   "execution_count": null,
   "metadata": {},
   "outputs": [],
   "source": [
    "import numpy as np\n",
    "import matplotlib.pyplot as plt\n",
    "\n",
    "# This is a \"magic command\" in Jupyter that ensures plots are displayed directly in the Notebook\n",
    "%matplotlib inline"
   ]
  },
  {
   "cell_type": "markdown",
   "metadata": {},
   "source": [
    "#### Conceptual Bridge: How Do Computers Draw \"Smooth\" Curves?\n",
    "\n",
    "They can't, really! A computer is inherently \"discrete\"; it can only handle individual points. The secret to drawing curves is \"approximating a curve with straight lines\": by drawing many tiny straight lines between a large number of very close points, it fakes a smooth curve. If the points are dense enough, our eyes perceive it as a continuous line. This is why `np.linspace()` is so important—it generates these dense, evenly spaced points for us."
   ]
  },
  {
   "cell_type": "markdown",
   "metadata": {},
   "source": [
    "### Task 1: Define and Plot f(x) = x^2\n",
    "\n",
    "Below, we have already generated 100 x-points from -10 to 10 using `np.linspace()` and calculated the corresponding y-values. Now, it's your turn to complete the plotting part."
   ]
  },
  {
   "cell_type": "code",
   "execution_count": null,
   "metadata": {},
   "outputs": [],
   "source": [
    "# 1. Generate x data\n",
    "x = np.linspace(-10, 10, 100)\n",
    "\n",
    "# 2. Calculate y data\n",
    "y = x**2\n",
    "\n",
    "# 3. Plot the graph (write your code here)\n",
    "# Hints:\n",
    "# - Use plt.plot(x, y) to generate the basic plot.\n",
    "# - Use plt.title(\"Your Title\") to add a title.\n",
    "# - Use plt.xlabel(\"x-axis\") and plt.ylabel(\"y-axis\") to add axis labels.\n",
    "# - Use plt.grid(True) to add a grid for better readability.\n",
    "# - Finally, use plt.show() to display your masterpiece.\n",
    "\n",
    "# Your code here\n"
   ]
  },
  {
   "cell_type": "markdown",
   "metadata": {},
   "source": [
    "### Task 2: Plot y = sin(x) and y = cos(x) on the Same Graph\n",
    "\n",
    "This time, try to plot two curves on the same graph."
   ]
  },
  {
   "cell_type": "code",
   "execution_count": null,
   "metadata": {},
   "outputs": [],
   "source": [
    "# 1. Generate x-data from -2*pi to 2*pi.\n",
    "# To make the curves very smooth, let's use 400 points.\n",
    "x_trig = np.linspace(-2 * np.pi, 2 * np.pi, 400)\n",
    "\n",
    "# 2. Calculate y-values for both functions\n",
    "y_sin = np.sin(x_trig)\n",
    "y_cos = np.cos(x_trig)\n",
    "\n",
    "# 3. Plot both curves (write your code here)\n",
    "# Hints:\n",
    "# - Call plt.plot() twice to draw two lines on the same graph.\n",
    "# - To distinguish them, add the label parameter in plt.plot(), e.g., plt.plot(x, y_sin, label='sin(x)')\n",
    "# - Call plt.legend() to display the legend.\n",
    "# - Don't forget the title, axis labels, and grid!\n",
    "\n",
    "# Your code here\n"
   ]
  },
  {
   "cell_type": "markdown",
   "metadata": {},
   "source": [
    "### Exercise: Handling a Tricky Function\n",
    "\n",
    "**Task**: Plot the function `f(x) = 1/x` (a hyperbola).\n",
    "\n",
    "**Think**: What happens to this function at `x=0`? If you directly generate an x-range that includes 0, your program will throw an error (division by zero). How can you define your x-range to cleverly avoid this problem?\n",
    "\n",
    "**Hint**: You can plot it in two parts! One part for the negative domain (e.g., from -5 to -0.1) and another for the positive domain (e.g., from 0.1 to 5). Then use `plt.plot()` twice to draw them on the same graph."
   ]
  },
  {
   "cell_type": "code",
   "execution_count": null,
   "metadata": {},
   "outputs": [],
   "source": [
    "# Write your code here\n"
   ]
  },
  {
   "cell_type": "markdown",
   "metadata": {},
   "source": [
    "---"
   ]
  },
  {
   "cell_type": "markdown",
   "metadata": {},
   "source": [
    "## ✅ Week 1 Milestone\n",
    "\n",
    "**Your Task**: Synthesize all the knowledge from this week to complete the following task independently. Successfully export a `.png` image containing both the `y=x^2` and `y=cos(x)` curves. The image must have a title, a legend, and labels for the axes.\n",
    "\n",
    "Follow the step-by-step hints in the cell below to complete your code."
   ]
  },
  {
   "cell_type": "code",
   "execution_count": null,
   "metadata": {},
   "outputs": [],
   "source": [
    "# Step 1: Generate x-values.\n",
    "# - Generate a set of x-values for y=x^2 (e.g., from -10 to 10).\n",
    "# - Generate another set of x-values suitable for a trigonometric function for y=cos(x) (e.g., from -2π to 2π).\n",
    "\n",
    "# Step 2: Calculate y-values.\n",
    "# - Calculate the corresponding y-values for each set of x-values.\n",
    "\n",
    "# Step 3: Plot both curves.\n",
    "# - Use plt.plot() twice, setting a label for each one.\n",
    "\n",
    "# Step 4: Add title, labels, and legend.\n",
    "# - Ensure your chart is informative and easy to understand.\n",
    "\n",
    "# Step 5: Save the figure to a file.\n",
    "# - Hint: Use plt.savefig('week1_milestone.png'). This must be called before plt.show()!\n",
    "\n",
    "# Step 6: Display the plot.\n",
    "# - Use plt.show().\n",
    "\n",
    "# Start writing your code below!\n"
   ]
  },
  {
   "cell_type": "markdown",
   "metadata": {},
   "source": [
    "---"
   ]
  },
  {
   "cell_type": "markdown",
   "metadata": {},
   "source": [
    "## 🏆 Challenger Task (Optional)\n",
    "\n",
    "**Task**: Try plotting a polar coordinate graph, for example, the function `r = 1 - sin(θ)` (a cardioid).\n",
    "\n",
    "**Hint**: This requires a more advanced feature of Matplotlib. You'll need to create a subplot with a 'polar' projection first.\n",
    "\n",
    "**AI-Assisted Exploration Prompt**:\n",
    "> “How to plot a polar chart in Matplotlib? Can you give me a simple example for the function r = 1 - sin(theta)?”\n",
    "\n",
    "**Key Step-by-Step Hints**:\n",
    "1.  Create a figure and axes object with a polar projection, like this: `fig, ax = plt.subplots(subplot_kw={'projection': 'polar'})`\n",
    "2.  Generate values for the angle `theta` (θ), which should range from 0 to `2 * np.pi`.\n",
    "3.  Calculate the `r` values based on the formula `r = 1 - np.sin(theta)`.\n",
    "4.  Plot on the polar axes: `ax.plot(theta, r)`\n",
    "5.  Add a title and show the plot."
   ]
  },
  {
   "cell_type": "code",
   "execution_count": null,
   "metadata": {},
   "outputs": [],
   "source": [
    "# Try to complete your challenger task here!\n"
   ]
  }
 ],
 "metadata": {
  "kernelspec": {
   "display_name": "aider",
   "language": "python",
   "name": "python3"
  },
  "language_info": {
   "codemirror_mode": {
    "name": "ipython",
    "version": 3
   },
   "file_extension": ".py",
   "mimetype": "text/x-python",
   "name": "python",
   "nbconvert_exporter": "python",
   "pygments_lexer": "ipython3",
   "version": "3.11.13"
  }
 },
 "nbformat": 4,
 "nbformat_minor": 4
}

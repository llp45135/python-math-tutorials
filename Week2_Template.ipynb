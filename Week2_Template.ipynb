{
 "cells": [
  {
   "cell_type": "markdown",
   "metadata": {},
   "source": [
    "# 第二周：深入核心——可视化微积分概念\n",
    "\n",
    "**目标**：通过编写代码和绘制图像，直观地理解极限和导数这两个微积分的核心概念。\n",
    "\n",
    "**核心理念**：将抽象的数学定义，转化为可以一步步执行和观察的动态过程。代码是连接抽象与直观的桥梁。"
   ]
  },
  {
   "cell_type": "markdown",
   "metadata": {},
   "source": [
    "## Part 1: 极限的可视化\n",
    "\n",
    "### 背景知识：什么是极限？\n",
    "\n",
    "极限（Limit）是微积分的基石。直观地说，一个函数或数列的极限，是指当其自变量**无限逼近**某个值时，函数值（或数列项）所**无限逼近**的那个目标值。\n",
    "\n",
    "计算机无法真正处理“无限”，但它可以模拟这个过程：通过计算当自变量“非常非常接近”某个值时，函数值的表现。如果函数值稳定地趋向一个固定的数字，我们就说“极限存在”。\n",
    "\n",
    "在这一部分，我们将通过两个经典例子，用代码来“看到”这个逼近的过程。"
   ]
  },
  {
   "cell_type": "code",
   "execution_count": null,
   "metadata": {},
   "outputs": [],
   "source": [
    "import numpy as np\n",
    "import matplotlib.pyplot as plt\n",
    "\n",
    "%matplotlib inline"
   ]
  },
  {
   "cell_type": "markdown",
   "metadata": {},
   "source": [
    "### 任务1 (数列极限): 观察 `(1 + 1/n)^n` 如何逼近 `e`\n",
    "\n",
    "数学史上一个非常重要的极限是 `lim (n->∞) (1 + 1/n)^n = e` (自然常数，约2.718)。我们将计算当n从1增长到很大时，这个数列的值如何变化。"
   ]
  },
  {
   "cell_type": "code",
   "execution_count": null,
   "metadata": {},
   "outputs": [],
   "source": [
    "# 练习：计算并观察数列 a_n = (1 + 1/n)^n 的趋势\n",
    "\n",
    "# 1. 创建一个代表 n 的NumPy数组，让n从1增长到一个较大的值，比如1000。\n",
    "# 提示：可以使用 np.arange(start, stop) 来生成一个整数序列。\n",
    "n_values = np.arange(1, 1001)\n",
    "\n",
    "# 2. 根据公式计算数列 a_n 的各项值。\n",
    "# 提示：NumPy的强大之处在于它可以对整个数组进行数学运算（这被称为“向量化”）。\n",
    "an_values = (1 + 1/n_values)**n_values\n",
    "\n",
    "# 3. 打印数列的最后5个值，看看它们是不是越来越接近 e (约 2.718)。\n",
    "# 提示：Python的列表和NumPy数组都支持“切片”操作，`[-5:]` 表示获取从倒数第5个到末尾的所有元素。\n",
    "print(\"数列的最后5个值是:\")\n",
    "print(an_values[-5:])\n",
    "print(\"\\n作为对比, e 的值是:\", np.e)\n",
    "\n",
    "# 4. (可选) 绘制图像来更直观地观察收敛过程。\n",
    "plt.figure(figsize=(10, 6))\n",
    "plt.plot(n_values, an_values, label='(1 + 1/n)^n')\n",
    "# 使用 axhline (axis horizontal line) 画一条水平参考线，位置在 e。\n",
    "plt.axhline(y=np.e, color='r', linestyle='--', label='e (自然常数)')\n",
    "plt.title(\"数列 (1 + 1/n)^n 的收敛过程\")\n",
    "plt.xlabel(\"n\")\n",
    "plt.ylabel(\"a_n 的值\")\n",
    "plt.legend()\n",
    "plt.grid(True)\n",
    "plt.show()"
   ]
  },
  {
   "cell_type": "markdown",
   "metadata": {},
   "source": [
    "### 任务2 (函数极限): 可视化 `sin(x)/x`\n",
    "\n",
    "另一个著名的极限是 `lim (x->0) sin(x)/x = 1`。注意，函数在x=0处是没有定义的（因为分母不能为0），但我们可以观察当x无限逼近0时，函数值会发生什么。"
   ]
  },
  {
   "cell_type": "code",
   "execution_count": null,
   "metadata": {},
   "outputs": [],
   "source": [
    "# 练习：观察当 x 趋近于 0 时, f(x) = sin(x)/x 的值的变化\n",
    "\n",
    "# 1. 生成一个从正方向越来越接近0的x值序列。\n",
    "# 提示：np.array([...]) 可以创建一个数组。 1e-3 是 0.001 的科学记数法。\n",
    "x_values = np.array([1, 0.1, 0.01, 1e-3, 1e-4, 1e-5, 1e-6])\n",
    "\n",
    "# 2. 计算 f(x) = sin(x)/x 的对应值。\n",
    "# 提示：np.sin() 可以直接作用于整个数组。\n",
    "y_values = np.sin(x_values) / x_values\n",
    "\n",
    "# 3. 使用 zip 和 for 循环，优雅地打印出x和y的对应关系。\n",
    "# 提示：f-string (f\"...\") 是一种现代且强大的字符串格式化方法。\n",
    "#       {x:<10} 表示将x的值按10个字符的宽度左对齐，方便观察。\n",
    "print(\"当 x 逼近 0 时, sin(x)/x 的值:\")\n",
    "for x, y in zip(x_values, y_values):\n",
    "    print(f\"x = {x:<10}, f(x) = {y}\")"
   ]
  },
  {
   "cell_type": "markdown",
   "metadata": {},
   "source": [
    "---"
   ]
  },
  {
   "cell_type": "markdown",
   "metadata": {},
   "source": [
    "## Part 2: 导数的几何意义\n",
    "\n",
    "### 背景知识：什么是导数？什么是自定义函数？\n",
    "\n",
    "**导数 (Derivative)** 的几何意义是函数在某一点的**切线的斜率**。它代表了函数在该点的瞬时变化率。\n",
    "\n",
    "我们无法直接计算切线，但可以像“极限”那样去逼近它：在函数上取一个固定点P，再取一个动点Q。连接P和Q形成**割线**。当Q点沿着函数曲线无限逼近P点时，这条割线的斜率就会无限逼近P点切线的斜率——也就是P点的导数。\n",
    "\n",
    "为了方便地重复计算函数值，我们需要学习**自定义函数**。在Python中，我们使用 `def` 关键字来定义一个可重用的代码块。这就像给一段代码起个名字，之后就可以通过这个名字来调用它，并可以给它不同的输入（参数），让它返回不同的输出（返回值）。"
   ]
  },
  {
   "cell_type": "markdown",
   "metadata": {},
   "source": [
    "### 任务：从割线到切线\n",
    "\n",
    "我们将以函数 `f(x) = x^2` 在点 `P(1, 1)` 处的导数为目标进行探索。"
   ]
  },
  {
   "cell_type": "code",
   "execution_count": null,
   "metadata": {},
   "outputs": [],
   "source": [
    "# 1. 定义函数\n",
    "# 这是一个代表 f(x) = x^2 的Python函数。\n",
    "# 它可以接收一个输入x，并返回x的平方。\n",
    "def f(x):\n",
    "    return x**2\n",
    "\n",
    "# 2. 练习：完成这个计算割线斜率的函数\n",
    "def secant_slope(func, x1, x2):\n",
    "    \"\"\"\n",
    "    计算一个通用函数 func 在 x1 和 x2 两点所连割线的斜率。\n",
    "    参数:\n",
    "    - func: 一个Python函数，例如我们上面定义的 f。\n",
    "    - x1, x2: 两个点的x坐标。\n",
    "    返回:\n",
    "    - 割线的斜率\n",
    "    \"\"\"\n",
    "    # 提示：斜率的定义是 (y2 - y1) / (x2 - x1)\n",
    "    # y1 的值可以通过调用 func(x1) 获得。\n",
    "    # y2 的值可以通过调用 func(x2) 获得。\n",
    "    y1 = func(x1)\n",
    "    y2 = func(x2)\n",
    "    slope = (y2 - y1) / (x2 - x1)\n",
    "    return slope\n",
    "\n",
    "# 3. 观察逼近过程\n",
    "# 我们固定P点(1, f(1))，让Q点(x_q, f(x_q))不断逼近P点。\n",
    "p_x = 1\n",
    "# 创建一个x_q值的列表，让它越来越接近p_x\n",
    "x_q_values = [2, 1.5, 1.1, 1.01, 1.001, 1.0001]\n",
    "\n",
    "print(f\"观察 f(x)=x^2 在 x={p_x} 处切线斜率的逼近过程：\")\n",
    "for x_q in x_q_values:\n",
    "    # 使用我们刚刚完成的函数来计算斜率\n",
    "    slope = secant_slope(f, p_x, x_q)\n",
    "    print(f\"当 Q点的x坐标为 {x_q:<8} 时, 割线斜率为: {slope:.4f}\")\n",
    "\n",
    "print(\"\\n理论上，f(x)=x^2在x=1处的导数值（即切线斜率）是 2。我们的计算结果正在逼近它！\")"
   ]
  },
  {
   "cell_type": "markdown",
   "metadata": {},
   "source": [
    "### 💡 AI 辅助练习：代码重构\n",
    "\n",
    "我们上面写的“观察逼近过程”的 for 循环代码非常有用，但如果我们想对另一个函数（比如 `g(x)=x^3`）在另一个点（比如 `x=2`）进行同样的分析，我们就得把那段代码复制粘贴一遍，这很不优雅。\n",
    "\n",
    "**任务**：你能否将这个“逼近过程”也封装成一个通用的函数？\n",
    "\n",
    "**提示**：尝试向AI提出这样的问题，学习如何将功能抽象成函数：\n",
    "> “请帮我把这段Python代码重构（refactor）成一个更通用的函数。我希望这个新函数能接受一个函数名（如`f`）、一个固定的点（如`p_x`）和一个逼近点的列表（如`x_q_values`）作为输入，然后打印出整个逼近过程。”\n",
    "\n",
    "在下面的单元格里，尝试定义并测试你的新函数。"
   ]
  },
  {
   "cell_type": "code",
   "execution_count": null,
   "metadata": {},
   "outputs": [],
   "source": [
    "# 在这里定义你的通用逼近函数，并用它来重新分析 f(x)=x^2 在 x=1 的情况\n"
   ]
  },
  {
   "cell_type": "markdown",
   "metadata": {},
   "source": [
    "---"
   ]
  },
  {
   "cell_type": "markdown",
   "metadata": {},
   "source": [
    "## ✅ 第二周通关标准\n",
    "\n",
    "**你的任务**：利用你在本周学到的**自定义函数**的知识，计算并打印出`g(x)=x^3`在`x=2`点的割线斜率逼近过程。\n",
    "\n",
    "**要求**：\n",
    "1. 定义一个代表 `g(x) = x^3` 的新函数。\n",
    "2. **复用**你之前编写的 `secant_slope` 函数，不要再写一遍！\n",
    "3. 让另一个点从`x=3`逐步逼近到`x=2.001`，观察其结果如何趋近于理论导数值12。"
   ]
  },
  {
   "cell_type": "code",
   "execution_count": null,
   "metadata": {},
   "outputs": [],
   "source": [
    "# 在此编写通关代码\n",
    "\n",
    "# 1. 定义一个新函数 g(x) = x^3\n",
    "\n",
    "# 2. 定义固定点和逼近点列表\n",
    "\n",
    "# 3. 使用 for 循环和 secant_slope 函数来计算并打印结果\n"
   ]
  },
  {
   "cell_type": "markdown",
   "metadata": {},
   "source": [
    "---"
   ]
  },
  {
   "cell_type": "markdown",
   "metadata": {},
   "source": [
    "## 🏆 挑战者任务 (可选)\n",
    "\n",
    "**任务**: 尝试用代码和图像来探索并验证**拉格朗日中值定理**。\n",
    "\n",
    "**背景**：该定理指出，如果一个函数在闭区间 `[a, b]` 上连续，在开区间 `(a, b)` 上可导，那么在 `(a, b)` 内至少存在一个点 `c`，使得函数在该点的切线斜率等于区间端点 `(a, f(a))` 和 `(b, f(b))` 所连割线的斜率。\n",
    "\n",
    "**探索步骤提示**：\n",
    "1. 选择一个函数，如 `h(x) = x^3 - 5*x`，以及一个区间，如 `[-1, 3]`。\n",
    "2. 使用你编写的 `secant_slope` 函数计算出该区间端点连线的斜率 `k`。\n",
    "3. **AI探索提示**：如何用Python找到一个函数的导数？可以向AI提问：“How to compute the derivative of a function in Python using the SymPy library?” SymPy是一个强大的符号计算库，我们将在下一周正式学习它。你可以提前预习一下！\n",
    "4. 找到在 `(-1, 3)` 区间内，哪一点 `c` 的导数 `h'(c)` 等于 `k`。\n",
    "5. **可视化**：在同一张图上画出原函数 `h(x)`、端点割线以及在点 `c` 的切线，你会发现它们是平行的！"
   ]
  },
  {
   "cell_type": "code",
   "execution_count": null,
   "metadata": {},
   "outputs": [],
   "source": [
    "# 在此编写挑战任务代码\n"
   ]
  }
 ],
 "metadata": {
  "kernelspec": {
   "display_name": "Python 3",
   "language": "python",
   "name": "python3"
  },
  "language_info": {
   "codemirror_mode": {
    "name": "ipython",
    "version": 3
   },
   "file_extension": ".py",
   "mimetype": "text/x-python",
   "name": "python",
   "nbconvert_exporter": "python",
   "pygments_lexer": "ipython3",
   "version": "3.8.8"
  }
 },
 "nbformat": 4,
 "nbformat_minor": 4
}

{
 "cells": [
  {
   "cell_type": "markdown",
   "metadata": {},
   "source": [
    "# 第三周：解锁神器——符号计算与积分初步\n",
    "\n",
    "**目标**：掌握符号计算库 `SymPy` 的核心用法，能用它进行表达式化简、解方程、求导和积分。并亲手实现黎曼和，从第一性原理理解定积分的含义。\n",
    "\n",
    "**核心理念**：让计算机处理繁琐的代数运算和公式推导，让我们专注于理解数学概念的本质和应用。"
   ]
  },
  {
   "cell_type": "markdown",
   "metadata": {},
   "source": [
    "## Part 1: 神奇的符号计算 (SymPy)\n",
    "\n",
    "### 背景知识：符号计算 vs. 数值计算\n",
    "\n",
    "到目前为止，我们所做的大部分计算都是**数值计算 (Numeric Computation)**。例如，`np.sin(3.14)` 会直接给我们一个近似的浮点数结果 `0.00159...`。它处理的是具体的“数字”。\n",
    "\n",
    "而**符号计算 (Symbolic Computation)** 则完全不同。它处理的是数学“符号”本身。当你告诉它 `sin(x)` 时，它理解 `x` 是一个抽象的符号，而不是一个具体的数字。这使得计算机能像数学家一样，进行公式推导、化简、求导、积分等操作。\n",
    "\n",
    "`SymPy` 就是 Python 世界中进行符号计算的王者。它能让我们用代码的方式，精确地表达和操作数学对象。\n",
    "\n",
    "---"
   ]
  },
  {
   "cell_type": "code",
   "execution_count": null,
   "metadata": {},
   "outputs": [],
   "source": [
    "import sympy as sp\n",
    "import numpy as np\n",
    "import matplotlib.pyplot as plt\n",
    "\n",
    "%matplotlib inline\n",
    "\n",
    "# 这行代码让SymPy的输出更好看 (以LaTeX格式渲染数学公式)\n",
    "sp.init_printing(use_latex='mathjax')"
   ]
  },
  {
   "cell_type": "markdown",
   "metadata": {},
   "source": [
    "### 任务 1.1: 定义符号与表达式\n",
    "\n",
    "使用 SymPy 的第一步，就是告诉它哪些是我们要操作的“符号”。"
   ]
  },
  {
   "cell_type": "code",
   "execution_count": null,
   "metadata": {},
   "outputs": [],
   "source": [
    "# 练习：定义符号 x, y 和 z，并创建一个表达式 f = x^2 + 2y + z\n",
    "\n",
    "# 1. 使用 sp.symbols() 一次性定义多个符号\n",
    "x, y, z = sp.symbols('x y z')\n",
    "\n",
    "# 2. 创建表达式\n",
    "f = x**2 + 2*y + z\n",
    "\n",
    "# 3. 使用 display() 函数来漂亮地显示它\n",
    "# display() 是 IPython/Jupyter 的一个特殊函数，比 print() 更适合显示富内容对象\n",
    "print(\"我创建的表达式是:\")\n",
    "display(f)"
   ]
  },
  {
   "cell_type": "markdown",
   "metadata": {},
   "source": [
    "### 任务 1.2: 表达式操作——展开与因式分解\n",
    "\n",
    "SymPy 可以像我们手动计算一样，对表达式进行展开和因式分解。"
   ]
  },
  {
   "cell_type": "code",
   "execution_count": null,
   "metadata": {},
   "outputs": [],
   "source": [
    "# 练习：展开表达式 (x + y)^3\n",
    "expr_to_expand = (x + y)**3\n",
    "expanded_expr = sp.expand(expr_to_expand)\n",
    "print(\"展开 (x+y)^3 的结果是:\")\n",
    "display(expanded_expr)\n",
    "\n",
    "# 练习：对表达式 x^3 - x 进行因式分解\n",
    "expr_to_factor = x**3 - x\n",
    "factored_expr = sp.factor(expr_to_factor)\n",
    "print(\"\\n对 x^3 - x 因式分解的结果是:\")\n",
    "display(factored_expr)"
   ]
  },
  {
   "cell_type": "markdown",
   "metadata": {},
   "source": [
    "### 任务 1.3: 解方程\n",
    "\n",
    "`sp.solve()` 是一个强大的函数，可以用来解代数方程。"
   ]
  },
  {
   "cell_type": "code",
   "execution_count": null,
   "metadata": {},
   "outputs": [],
   "source": [
    "# 练习：解二次方程 x^2 - 6x + 8 = 0\n",
    "# 提示：sp.solve() 默认方程的右边等于0。\n",
    "equation = x**2 - 6*x + 8\n",
    "solutions = sp.solve(equation, x)\n",
    "\n",
    "print(f\"方程 {equation} = 0 的解是: {solutions}\")"
   ]
  },
  {
   "cell_type": "markdown",
   "metadata": {},
   "source": [
    "### 任务 1.4: 微积分——求导与积分\n",
    "\n",
    "这可以说是 SymPy 最酷的功能之一。它可以精确地计算函数的导数和积分，无需进行数值逼近。"
   ]
  },
  {
   "cell_type": "code",
   "execution_count": null,
   "metadata": {},
   "outputs": [],
   "source": [
    "# 练习：计算 f = sin(x) * exp(x) 的一阶和二阶导数\n",
    "f_calculus = sp.sin(x) * sp.exp(x)\n",
    "print(\"原函数:\")\n",
    "display(f_calculus)\n",
    "\n",
    "# 1. 使用 sp.diff(函数, 变量) 计算一阶导数\n",
    "df_dx = sp.diff(f_calculus, x)\n",
    "print(\"一阶导数:\")\n",
    "display(df_dx)\n",
    "\n",
    "# 2. 使用 sp.diff(函数, 变量, 阶数) 计算二阶导数\n",
    "d2f_dx2 = sp.diff(f_calculus, x, 2)\n",
    "print(\"二阶导数:\")\n",
    "display(d2f_dx2)\n",
    "\n",
    "# 练习：计算 cos(x) 的不定积分\n",
    "# 提示：使用 sp.integrate(函数, 变量)\n",
    "indef_integral = sp.integrate(sp.cos(x), x)\n",
    "print(\"\\ncos(x) 的不定积分是:\")\n",
    "display(indef_integral)"
   ]
  },
  {
   "cell_type": "markdown",
   "metadata": {},
   "source": [
    "### 任务 1.5: 从符号到数值——`subs` 和 `lambdify`\n",
    "\n",
    "我们经常需要在得到符号结果后，代入具体的数值进行计算或绘图。`subs` 和 `lambdify` 就是连接符号世界和数值世界的桥梁。\n",
    "\n",
    "- **`subs(符号, 数值)`**: 将表达式中的某个符号替换成一个具体的数值。\n",
    "- **`lambdify(符号, 表达式)`**: 将一个SymPy表达式“编译”成一个快速的、可供NumPy和Matplotlib使用的数值函数。"
   ]
  },
  {
   "cell_type": "code",
   "execution_count": null,
   "metadata": {},
   "outputs": [],
   "source": [
    "# 练习：求 g(x) = x^3 - 3x 的导数，并在 x=2 处求值\n",
    "g = x**3 - 3*x\n",
    "dg_dx = sp.diff(g, x)\n",
    "print(\"g(x) 的导函数是:\")\n",
    "display(dg_dx)\n",
    "\n",
    "# 使用 subs 方法计算在 x=2 时的导数值\n",
    "derivative_at_2 = dg_dx.subs(x, 2)\n",
    "print(f\"在 x=2 处的导数值是: {derivative_at_2}\")\n",
    "\n",
    "# 练习：将 g(x) 和其导函数转换为数值函数，并绘制图像\n",
    "# 1. 使用 lambdify\n",
    "# 第一个参数是自变量符号，第二个参数是表达式\n",
    "g_numeric = sp.lambdify(x, g, 'numpy')\n",
    "dg_dx_numeric = sp.lambdify(x, dg_dx, 'numpy')\n",
    "\n",
    "# 2. 生成用于绘图的x值\n",
    "x_vals = np.linspace(-2.5, 2.5, 400)\n",
    "\n",
    "# 3. 绘制图像\n",
    "plt.figure(figsize=(10, 6))\n",
    "plt.plot(x_vals, g_numeric(x_vals), label='g(x) = x^3 - 3x')\n",
    "plt.plot(x_vals, dg_dx_numeric(x_vals), label=\"g'(x) (导函数)\", linestyle='--')\n",
    "plt.axhline(0, color='black', linewidth=0.5)\n",
    "plt.title(\"函数及其导数图像\")\n",
    "plt.xlabel(\"x\")\n",
    "plt.ylabel(\"y\")\n",
    "plt.legend()\n",
    "plt.grid(True)\n",
    "plt.show()\n",
    "\n",
    "print(\"观察图像：当导函数（虚线）等于0时，原函数（实线）处于局部最大值或最小值点。\")"
   ]
  },
  {
   "cell_type": "markdown",
   "metadata": {},
   "source": [
    "---"
   ]
  },
  {
   "cell_type": "markdown",
   "metadata": {},
   "source": [
    "## Part 2: 积分的本质 (黎曼和)\n",
    "\n",
    "### 背景知识：黎曼和如何逼近定积分？\n",
    "\n",
    "定积分 `∫[a,b] f(x)dx` 的几何意义是函数 `f(x)` 的曲线与x轴在区间 `[a, b]` 内所围成区域的**面积**。\n",
    "\n",
    "**黎曼和 (Riemann Sum)** 的思想，就是用一系列矩形的面积之和来近似这个曲边梯形的面积。具体步骤是：\n",
    "1.  将积分区间 `[a, b]` 分割成 `n` 个等宽的小区间，每个区间的宽度 `Δx = (b - a) / n`。\n",
    "2.  在每个小区间内，选择一个代表点（例如区间的左端点、右端点或中点）。\n",
    "3.  用该代表点处的函数值 `f(x*)` 作为矩形的高，`Δx` 作为矩形的宽，计算出这个矩形的面积。\n",
    "4.  将所有 `n` 个矩形的面积加起来，就得到了黎曼和。\n",
    "\n",
    "当 `n` 变得越来越大（即矩形越来越窄）时，这些矩形面积的总和就会越来越精确地逼近真实的积分面积。"
   ]
  },
  {
   "cell_type": "markdown",
   "metadata": {},
   "source": [
    "### 任务 2.1: 计算黎曼和\n",
    "\n",
    "我们将计算函数 `h(x) = 4 - x^2` 在区间 `[0, 2]` 上的积分。理论值是 `16/3` (约5.333)。"
   ]
  },
  {
   "cell_type": "code",
   "execution_count": null,
   "metadata": {},
   "outputs": [],
   "source": [
    "# 练习：完成这个计算左黎曼和的函数\n",
    "\n",
    "def h(x):\n",
    "    return 4 - x**2\n",
    "\n",
    "def left_riemann_sum(func, a, b, n):\n",
    "    \"\"\"\n",
    "    计算一个函数在[a,b]区间上，使用n个矩形的左黎曼和。\n",
    "    \"\"\"\n",
    "    # 1. 计算每个小矩形的宽度 Δx\n",
    "    delta_x = (b - a) / n\n",
    "    \n",
    "    # 2. 生成每个矩形左端点的x坐标\n",
    "    # 提示：使用 np.linspace(a, b, n, endpoint=False) 可以生成从a到b（不包含b）的n个等距点。\n",
    "    x_left = np.linspace(a, b, n, endpoint=False)\n",
    "    \n",
    "    # 3. 计算每个矩形的高度（即在左端点处的函数值）\n",
    "    heights = func(x_left)\n",
    "    \n",
    "    # 4. 计算所有矩形的面积总和\n",
    "    total_area = np.sum(heights * delta_x)\n",
    "    \n",
    "    return total_area\n",
    "\n",
    "# 调用你的函数，观察逼近过程\n",
    "for n in [10, 100, 1000, 10000]:\n",
    "    approximation = left_riemann_sum(h, 0, 2, n)\n",
    "    print(f\"当 n = {n:<5} 时, 左黎曼和为: {approximation:.6f}\")\n",
    "\n",
    "print(f\"\\n理论值是 16/3 ≈ {16/3:.6f}\")"
   ]
  },
  {
   "cell_type": "markdown",
   "metadata": {},
   "source": [
    "### 任务 2.2: 可视化黎曼和\n",
    "\n",
    "**任务**：在 `h(x) = 4 - x^2` 图像下方，使用`plt.bar()`绘制出当`n=10`时的黎曼和矩形。\n",
    "\n",
    "**AI 辅助探索提示**：\n",
    "> “How to draw Riemann sum rectangles under a curve using Matplotlib? I have the x-coordinates of the left endpoints, the heights of the rectangles, and the width delta_x. Can you show me how to use `plt.bar()`?”"
   ]
  },
  {
   "cell_type": "code",
   "execution_count": null,
   "metadata": {},
   "outputs": [],
   "source": [
    "# 练习：可视化黎曼和\n",
    "a, b, n = 0, 2, 10\n",
    "delta_x = (b - a) / n\n",
    "x_left = np.linspace(a, b, n, endpoint=False)\n",
    "heights = h(x_left)\n",
    "\n",
    "# 1. 绘制函数曲线\n",
    "x_curve = np.linspace(a, b, 200)\n",
    "y_curve = h(x_curve)\n",
    "plt.figure(figsize=(8, 6))\n",
    "plt.plot(x_curve, y_curve, 'b-', linewidth=2, label='f(x) = 4 - x^2')\n",
    "\n",
    "# 2. 使用 plt.bar() 绘制矩形\n",
    "# 提示：plt.bar() 需要知道每个矩形的左下角x坐标、高度、宽度，以及对齐方式。\n",
    "plt.bar(x_left, heights, width=delta_x, alpha=0.5, align='edge', edgecolor='black', label=f'左黎曼和 (n={n})')\n",
    "\n",
    "# 3. 添加图表元素\n",
    "plt.title(\"黎曼和可视化\")\n",
    "plt.xlabel(\"x\")\n",
    "plt.ylabel(\"y\")\n",
    "plt.legend()\n",
    "plt.grid(True)\n",
    "plt.show()"
   ]
  },
  {
   "cell_type": "markdown",
   "metadata": {},
   "source": [
    "---"
   ]
  },
  {
   "cell_type": "markdown",
   "metadata": {},
   "source": [
    "## ✅ 第三周通关标准\n",
    "\n",
    "**任务**: 综合运用本周所学，完成以下两个任务。\n",
    "\n",
    "1.  **符号计算任务**: 使用 SymPy 计算 `f(x) = x * cos(x)` 的不定积分和在 `[0, π/2]` 区间上的定积分。\n",
    "2.  **数值与可视化任务**: 编写一个计算**右黎曼和**的函数，并用它计算 `g(x) = x^2` 在 `[0, 1]` 区间上（n=50）的近似积分值，并将其可视化。"
   ]
  },
  {
   "cell_type": "code",
   "execution_count": null,
   "metadata": {},
   "outputs": [],
   "source": [
    "# 在此编写通关代码\n"
   ]
  },
  {
   "cell_type": "markdown",
   "metadata": {},
   "source": [
    "---"
   ]
  },
  {
   "cell_type": "markdown",
   "metadata": {},
   "source": [
    "## 🏆 挑战者任务 (可选)\n",
    "\n",
    "**任务**: 探索**泰勒展开**。\n",
    "\n",
    "**背景**：泰勒展开的核心思想是用一个多项式函数来近似一个复杂的函数。在某一点 `x=a` 附近，一个光滑函数可以用它的各阶导数值来构造一个多项式，这个多项式在 `a` 点附近与原函数非常接近。\n",
    "\n",
    "**探索步骤**：\n",
    "1.  使用 SymPy 的 `sp.series(expression, x, x0, n)` 函数计算 `f(x)=cos(x)` 在 `x=0` 处的前8阶泰勒展开式。\n",
    "2.  `sp.series` 的结果会包含一个表示高阶无穷小的 `O(x^n)` 项。使用 `.removeO()` 方法将其移除，得到一个纯粹的多项式。\n",
    "3.  使用 `sp.lambdify` 将原函数 `cos(x)` 和你得到的泰勒多项式都转换成数值函数。\n",
    "4.  用 Matplotlib 将原函数和它的泰勒近似函数画在同一张图上，观察在 `x=0` 附近，它们是如何完美重合的，以及随着远离0点，近似效果如何变差。"
   ]
  },
  {
   "cell_type": "code",
   "execution_count": null,
   "metadata": {},
   "outputs": [],
   "source": [
    "# 在此编写挑战任务代码\n"
   ]
  }
 ],
 "metadata": {
  "kernelspec": {
   "display_name": "Python 3",
   "language": "python",
   "name": "python3"
  },
  "language_info": {
   "codemirror_mode": {
    "name": "ipython",
    "version": 3
   },
   "file_extension": ".py",
   "mimetype": "text/x-python",
   "name": "python",
   "nbconvert_exporter": "python",
   "pygments_lexer": "ipython3",
   "version": "3.8.8"
  }
 },
 "nbformat": 4,
 "nbformat_minor": 4
}

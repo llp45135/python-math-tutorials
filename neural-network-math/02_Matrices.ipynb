{
 "cells": [
  {
   "cell_type": "markdown",
   "metadata": {},
   "source": [
    "# Notebook 2: 矩阵(Matrices) - 知识的容器\n",
    "\n",
    "欢迎来到第二课！我们已经了解了向量，现在来看看它们的好伙伴——矩阵。\n",
    "\n",
    "**目标:** 直观地理解矩阵是什么，以及为什么它们是神经网络中存储“知识”的核心组件。\n",
    "\n",
    "**核心直觉:** 如果说向量是数据，那么矩阵就是对数据进行操作的“机器”或“蓝图”。在神经网络中，矩阵存储了神经元之间的连接权重（weights），它定义了如何将上一层神经元的激活值（一个向量）转换为下一层神经元的激活值（另一个向量）。"
   ]
  },
  {
   "cell_type": "markdown",
   "metadata": {},
   "source": [
    "## 1. 现实生活中的矩阵：图像数据\n",
    "\n",
    "思考一张黑白图片。它实际上就是一个由像素亮度值组成的网格。例如，一张 28x28 像素的手写数字图片，就可以被看作一个 28x28 的矩阵，其中每个元素的值在 0（黑色）到 255（白色）之间。"
   ]
  },
  {
   "cell_type": "code",
   "execution_count": 1,
   "metadata": {},
   "outputs": [],
   "source": [
    "import numpy as np\n",
    "import matplotlib.pyplot as plt"
   ]
  },
  {
   "cell_type": "markdown",
   "metadata": {},
   "source": [
    "## 2. 用 Numpy 创建矩阵\n",
    "\n",
    "矩阵可以看作是“向量的向量”。它是一个二维的数字数组。"
   ]
  },
  {
   "cell_type": "code",
   "execution_count": 2,
   "metadata": {},
   "outputs": [
    {
     "name": "stdout",
     "output_type": "stream",
     "text": [
      "这是一个 3x2 的矩阵:\n",
      "[[1 2]\n",
      " [3 4]\n",
      " [5 6]]\n",
      "\n",
      "矩阵的形状是: (3, 2)\n"
     ]
    }
   ],
   "source": [
    "# 创建一个 3x2 的矩阵\n",
    "# 可以想象成一个有3行2列的表格\n",
    "matrix_A = np.array([\n",
    "    [1, 2],  # 第一行\n",
    "    [3, 4],  # 第二行\n",
    "    [5, 6]   # 第三行\n",
    "])\n",
    "\n",
    "print(\"这是一个 3x2 的矩阵:\")\n",
    "print(matrix_A)\n",
    "\n",
    "# 我们可以用 .shape 属性查看矩阵的维度\n",
    "print(f\"\\n矩阵的形状是: {matrix_A.shape}\")"
   ]
  },
  {
   "cell_type": "markdown",
   "metadata": {},
   "source": [
    "在神经网络的语境中，一个连接 `m` 个神经元层和 `n` 个神经元层的权重矩阵，其形状通常是 `(n, m)`。我们将在下一个 Notebook 中深入探讨这一点。"
   ]
  },
  {
   "cell_type": "markdown",
   "metadata": {},
   "source": [
    "## 3. 可视化矩阵：热力图\n",
    "\n",
    "对于较大的矩阵，我们可以用“热力图”来直观地感受其内部值的分布。颜色越亮代表值越大，颜色越暗代表值越小。"
   ]
  },
  {
   "cell_type": "code",
   "execution_count": 3,
   "metadata": {},
   "outputs": [
    {
     "data": {
      "image/png": "[encoded data removed]",
      "text/plain": [
       "<Figure size 1000x500 with 2 Axes>"
      ]
     },
     "metadata": {},
     "output_type": "display_data"
    }
   ],
   "source": [
    "# 创建一个随机的 5x10 矩阵，值在 0 到 1 之间\n",
    "random_matrix = np.random.rand(5, 10)\n",
    "\n",
    "plt.figure(figsize=(10, 5))\n",
    "plt.imshow(random_matrix, cmap='viridis', interpolation='nearest')\n",
    "plt.title('Visualizing a 5x10 Matrix as a Heatmap')\n",
    "plt.colorbar(label='Value')\n",
    "plt.show()"
   ]
  },
  {
   "cell_type": "markdown",
   "metadata": {},
   "source": [
    "这张图让我们能一眼看出矩阵中值的分布模式。在真实的神经网络中，可视化权重矩阵可以帮助我们理解网络学到了什么样的特征。"
   ]
  },
  {
   "cell_type": "markdown",
   "metadata": {},
   "source": [
    "## 4. 矩阵的基本操作\n",
    "\n",
    "和向量一样，矩阵也可以进行加法和数乘，规则是完全相同的：逐元素操作。"
   ]
  },
  {
   "cell_type": "code",
   "execution_count": null,
   "metadata": {},
   "outputs": [],
   "source": [
    "matrix_B = np.array([\n",
    "    [10, 20],\n",
    "    [30, 40],\n",
    "    [50, 60]\n",
    "])\n",
    "\n",
    "# 矩阵加法 (要求形状相同)\n",
    "sum_matrix = matrix_A + matrix_B\n",
    "print(\"矩阵 A + B:\")\n",
    "print(sum_matrix)\n",
    "\n",
    "# 矩阵数乘\n",
    "scaled_matrix = matrix_A * 10\n",
    "print(\"\\n矩阵 A * 10:\")\n",
    "print(scaled_matrix)"
   ]
  },
  {
   "cell_type": "markdown",
   "metadata": {},
   "source": [
    "然而，矩阵最强大、最核心的运算是 **矩阵乘法**，它定义了如何将一个向量空间转换到另一个向量空间。这正是神经网络层与层之间传递信息的方式。\n",
    "\n",
    "我们将在下一个 Notebook 中聚焦于矩阵与向量的乘法，这是理解神经网络前向传播的关键一步。"
   ]
  },
  {
   "cell_type": "markdown",
   "metadata": {},
   "source": [
    "## 总结\n",
    "\n",
    "**关键回顾:**\n",
    "1.  **矩阵是网格:** 它们是二维的数字数组，可以看作是向量的集合。\n",
    "2.  **知识的容器:** 在神经网络中，矩阵存储了定义网络行为的权重。\n",
    "3.  **可视化:** 热力图是理解矩阵中数值分布的好方法。\n",
    "\n",
    "现在，我们已经准备好将向量和矩阵结合起来，看看神经网络中最核心的计算是如何发生的。"
   ]
  }
 ],
 "metadata": {
  "kernelspec": {
   "display_name": "aider",
   "language": "python",
   "name": "python3"
  },
  "language_info": {
   "codemirror_mode": {
    "name": "ipython",
    "version": 3
   },
   "file_extension": ".py",
   "mimetype": "text/x-python",
   "name": "python",
   "nbconvert_exporter": "python",
   "pygments_lexer": "ipython3",
   "version": "3.11.13"
  }
 },
 "nbformat": 4,
 "nbformat_minor": 4
}

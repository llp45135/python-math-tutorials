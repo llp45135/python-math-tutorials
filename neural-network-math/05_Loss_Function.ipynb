{
 "cells": [
  {
   "cell_type": "markdown",
   "metadata": {},
   "source": [
    "# Notebook 5: 损失函数(Loss Function) - 衡量“差多少”\n",
    "\n",
    "欢迎来到学习之旅的第二部分！我们已经知道了神经网络如何进行一次预测（前向传播），但我们如何知道这个预测是好是坏呢？这就是损失函数（或成本函数）的作用。\n",
    "\n",
    "**目标:** 理解损失函数的概念，以及它如何量化我们模型的预测与真实目标之间的差距。\n",
    "\n",
    "**核心直觉:** 猜价格游戏！\n",
    "你正在参加一个猜商品价格的游戏。你猜了一个价格（模型的预测），主持人会告诉你实际价格（真实标签）。损失函数就是告诉你“你猜得有多离谱”的那个规则。如果规则是“差价的平方”，那么猜 110 元和猜 90 元（实际价格100元）的“离谱程度”是一样的。我们的目标就是通过调整我们的猜测策略（模型的权重），让这个“离谱程度”（损失）变得最小。"
   ]
  },
  {
   "cell_type": "code",
   "execution_count": null,
   "metadata": {},
   "outputs": [],
   "source": [
    "import numpy as np\n",
    "import matplotlib.pyplot as plt"
   ]
  },
  {
   "cell_type": "markdown",
   "metadata": {},
   "source": [
    "## 1. 一个简单的例子：预测房价\n",
    "\n",
    "假设我们有一个超级简单的模型，它只根据房子的面积（平方米）来预测价格（万元）。\n",
    "我们的模型是： `价格 = 面积 * w`\n",
    "\n",
    "这里的 `w` 就是我们模型的唯一参数（权重）。我们需要找到一个最好的 `w`。\n",
    "\n",
    "我们有一条数据：一个100平方米的房子，真实价格是300万元。"
   ]
  },
  {
   "cell_type": "code",
   "execution_count": null,
   "metadata": {},
   "outputs": [],
   "source": [
    "# 真实数据\n",
    "area = 100  # 面积\n",
    "true_price = 300 # 真实价格"
   ]
  },
  {
   "cell_type": "markdown",
   "metadata": {},
   "source": [
    "## 2. 定义损失函数：均方误差 (Mean Squared Error, MSE)\n",
    "\n",
    "均方误差是一个非常常见的损失函数，特别是在回归问题中。它的计算方法很简单：\n",
    "\n",
    "`MSE = (预测值 - 真实值)²`\n",
    "\n",
    "我们用平方是为了：\n",
    "1.  让误差总是正数。\n",
    "2.  对更大的误差给予更重的“惩罚”。"
   ]
  },
  {
   "cell_type": "code",
   "execution_count": null,
   "metadata": {},
   "outputs": [],
   "source": [
    "def mse_loss(predicted, actual):\n",
    "    return (predicted - actual) ** 2"
   ]
  },
  {
   "cell_type": "markdown",
   "metadata": {},
   "source": [
    "现在，让我们看看对于不同的 `w`，我们模型的损失是多少。"
   ]
  },
  {
   "cell_type": "code",
   "execution_count": null,
   "metadata": {},
   "outputs": [],
   "source": [
    "# 假设我们猜了几个不同的 w\n",
    "w_1 = 2.0  # 猜测每平米2万元\n",
    "w_2 = 3.5  # 猜测每平米3.5万元\n",
    "w_3 = 3.0  # 完美的猜测！\n",
    "\n",
    "# 计算预测价格\n",
    "price_1 = area * w_1\n",
    "price_2 = area * w_2\n",
    "price_3 = area * w_3\n",
    "\n",
    "# 计算损失\n",
    "loss_1 = mse_loss(price_1, true_price)\n",
    "loss_2 = mse_loss(price_2, true_price)\n",
    "loss_3 = mse_loss(price_3, true_price)\n",
    "\n",
    "print(f\"当 w={w_1}, 预测价={price_1}, 损失={loss_1}\")\n",
    "print(f\"当 w={w_2}, 预测价={price_2}, 损失={loss_2}\")\n",
    "print(f\"当 w={w_3}, 预测价={price_3}, 损失={loss_3}\")"
   ]
  },
  {
   "cell_type": "markdown",
   "metadata": {},
   "source": [
    "## 3. 可视化损失景观 (Loss Landscape)\n",
    "\n",
    "我们可以画出损失值是如何随着 `w` 的变化而变化的。这张图被称为“损失景观”。我们的目标就是找到这个景观的最低点。\n"
   ]
  },
  {
   "cell_type": "code",
   "execution_count": null,
   "metadata": {},
   "outputs": [],
   "source": [
    "# 生成一系列 w 的值\n",
    "w_values = np.linspace(0, 6, 100) # 从0到6取100个点\n",
    "\n",
    "# 计算每个 w 对应的损失\n",
    "predicted_prices = area * w_values\n",
    "loss_values = mse_loss(predicted_prices, true_price)\n",
    "\n",
    "# 绘图\n",
    "plt.figure(figsize=(8, 6))\n",
    "plt.plot(w_values, loss_values)\n",
    "plt.title('Loss Landscape for our Simple Model')\n",
    "plt.xlabel('Weight (w)')\n",
    "plt.ylabel('Loss (MSE)')\n",
    "plt.grid(True)\n",
    "\n",
    "# 标记出最低点\n",
    "plt.scatter(3.0, 0, color='red', zorder=5, label='Minimum Loss at w=3.0')\n",
    "plt.legend()\n",
    "\n",
    "plt.show()"
   ]
  },
  {
   "cell_type": "markdown",
   "metadata": {},
   "source": [
    "这个U形的碗状曲线就是我们的损失景观。非常直观，`w=3.0` 时，损失为0，这是我们的最优解。\n",
    "\n",
    "**思考:** 在真实的神经网络中，我们有成千上万甚至数百万个权重（参数），所以损失景观不再是一条线，而是一个极其复杂的高维“山谷”。我们如何在这个复杂的地形中找到最低点呢？\n",
    "\n",
    "答案就是我们下一课的主题：**导数与梯度**。它们会像一个“GPS”一样，告诉我们应该朝哪个方向走才能最快地到达谷底。"
   ]
  },
  {
   "cell_type": "markdown",
   "metadata": {},
   "source": [
    "## 总结\n",
    "\n",
    "**关键回顾:**\n",
    "1.  **损失函数衡量差距:** 它量化了模型预测与真实值之间的误差。\n",
    "2.  **目标是最小化损失:** 整个训练过程的目标就是找到一组参数（权重和偏置），使得损失函数的值最小。\n",
    "3.  **损失景观:** 损失函数定义了一个与模型参数相关的“地形”，我们的任务是在这个地形中“下山”。\n",
    "\n",
    "现在我们有了一个明确的目标（最小化损失），接下来就要学习如何实现这个目标了。"
   ]
  }
 ],
 "metadata": {
  "kernelspec": {
   "display_name": "Python 3",
   "language": "python",
   "name": "python3"
  },
  "language_info": {
   "codemirror_mode": {
    "name": "ipython",
    "version": 3
   },
   "file_extension": ".py",
   "mimetype": "text/x-python",
   "name": "python",
   "nbconvert_exporter": "python",
   "pygments_lexer": "ipython3",
   "version": "3.9.7"
  }
 },
 "nbformat": 4,
 "nbformat_minor": 4
}

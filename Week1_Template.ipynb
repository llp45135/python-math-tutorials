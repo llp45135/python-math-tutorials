{
 "cells": [
  {
   "cell_type": "markdown",
   "metadata": {},
   "source": [
    "# 第一周：奠定基础——从代码到图像\n",
    "\n",
    "**目标**：熟练掌握Jupyter环境，能用Python和Matplotlib绘制出任意你在高中学过的函数图像。\n",
    "\n",
    "**核心理念**：动手 > 看视频。每段代码都必须亲手敲一遍，然后试着修改参数，看看会发生什么。代码是用来“玩”的。"
   ]
  },
  {
   "cell_type": "markdown",
   "metadata": {},
   "source": [
    "## Part 1: 环境与基础\n",
    "\n",
    "### 背景知识：什么是 Jupyter Notebook？\n",
    "\n",
    "你现在正在使用的这个界面，就是 Jupyter Notebook。把它想象成一个“交互式”的笔记本。传统的代码文件（比如 `.py` 文件）通常需要一次性写完所有代码然后一起运行。而 Jupyter 的强大之处在于，它由许多独立的“单元格”（Cell）组成。\n",
    "\n",
    "你可以：\n",
    "1.  **独立运行每个单元格**：这让你能一步一步地测试代码，立刻看到结果，非常适合学习和探索。\n",
    "2.  **混合代码和文本**：你可以像现在这样，在代码之间插入格式化的文本、数学公式、甚至图片来做笔记。这使得它成为整理学习思路、撰写分析报告的绝佳工具。\n",
    "\n",
    "我们有两种主要的单元格类型：\n",
    "-   **代码单元格 (Code Cell)**：用来写和运行Python代码。\n",
    "-   **Markdown单元格 (Markdown Cell)**：用来写格式化的文本和笔记，就像这个单元格一样。"
   ]
  },
  {
   "cell_type": "markdown",
   "metadata": {},
   "source": [
    "### 任务：我的第一个数学笔记\n",
    "\n",
    "#### 1.1 背景知识：什么是变量？\n",
    "在数学中，我们用符号（如 x, y）来代表数字。在编程中，我们使用**变量（Variable）**来做类似的事情。变量就像一个带标签的盒子，你可以把数据（比如数字、文本）放进去，并随时通过标签（变量名）来使用它。\n",
    "\n",
    "例如，`a = 100` 这行代码的意思是：“创建一个名为 `a` 的变量，并把 `100` 这个值存进去。”"
   ]
  },
  {
   "cell_type": "markdown",
   "metadata": {},
   "source": [
    "#### 1.2 练习：基本运算\n",
    "在下方的**代码单元**中，练习变量赋值和基本数学运算。\n",
    "\n",
    "1.  计算 `(100 - 2^5) / 5`。\n",
    "2.  计算半径为7的圆的面积。圆的面积公式是 `π * r^2`。"
   ]
  },
  {
   "cell_type": "code",
   "execution_count": null,
   "metadata": {},
   "outputs": [],
   "source": [
    "# 练习1：计算 (100 - 2^5) / 5\n",
    "# 提示：在Python中，乘方运算使用 **\n",
    "a = 100\n",
    "b = 2\n",
    "c = 5\n",
    "result1 = (a - b**c) / c\n",
    "print(\"第一个练习的结果是:\", result1)\n",
    "\n",
    "# 练习2：计算半径为7的圆的面积\n",
    "# 提示：你需要π的值。最简单的方法是从数学库中导入它。\n",
    "import math\n",
    "radius = 7\n",
    "area = math.pi * (radius**2)\n",
    "print(\"圆的面积是:\", area)"
   ]
  },
  {
   "cell_type": "markdown",
   "metadata": {},
   "source": [
    "#### 1.3 练习：用 LaTeX 写数学公式\n",
    "Markdown 单元格的一个超酷功能是它支持用 LaTeX 语法写出漂亮的数学公式。把公式放在 `$` 符号之间即可。\n",
    "\n",
    "1.  在下方**Markdown单元**中，学习并写下二次函数的LaTeX公式：`f(x) = ax^2 + bx + c`。\n",
    "2.  尝试写出勾股定理的公式：`a^2 + b^2 = c^2`。"
   ]
  },
  {
   "cell_type": "markdown",
   "metadata": {},
   "source": [
    "请在此处输入你的答案：\n",
    "\n",
    "1. 二次函数: $f(x) = ax^2 + bx + c$\n",
    "\n",
    "2. 勾股定理: $a^2 + b^2 = c^2$"
   ]
  },
  {
   "cell_type": "markdown",
   "metadata": {},
   "source": [
    "### 💡 高手提示：如何将AI用作成学习伙伴\n",
    "\n",
    "你有一个强大的助手：AI！像 Gemini、ChatGPT 或 Copilot 这样的工具在学习上能发挥巨大作用。关键在于，你要学会如何**精确地提问**，把它从一个“答案提供者”变成一个“学习探索的伙伴”。\n",
    "\n",
    "**黄金法则：提供完整的上下文！**\n",
    "\n",
    "*   **糟糕的提问:** “我的代码坏了，帮我修好。” (AI不知道你的目标、代码和错误)\n",
    "*   **优秀的提问:** “我正在用Matplotlib学习Python。我想要绘制从-2π到2π的`y=sin(x)`函数图像。这是我的代码：`[在此处粘贴你的代码]`。我期望看到一条平滑的正弦曲线，但却收到了这个错误信息：`[在此处粘贴错误信息]`。你能解释一下这个错误是什么意思，以及我该如何修复我的代码吗？”\n",
    "\n",
    "一个好的提问总是包含：\n",
    "1.  **你的目标**: 你想实现什么？\n",
    "2.  **你的尝试**: 你已经写了什么代码？\n",
    "3.  **实际结果**: 到底发生了什么？（例如：错误信息、图像看起来不对、没有任何输出）。\n",
    "\n",
    "--- \n",
    "\n",
    "#### AI 辅助学习练习\n",
    "\n",
    "**任务**：除了 `+`, `-`, `*`, `/`, `**`，Python 还支持哪些有趣的数学运算符？例如，如何只取除法的整数部分？如何计算余数？\n",
    "\n",
    "**提示**：尝试向AI提出这样的问题：\n",
    "> “在Python中，除了加减乘除和乘方，还有哪些基本的数学运算符？请用一个表格总结它们，并给出每个运算符的简单例子。”\n",
    "\n",
    "把你的发现写在下面的 Markdown 单元格里。"
   ]
  },
  {
   "cell_type": "markdown",
   "metadata": {},
   "source": [
    "（在这里写下你从AI那里学到的新知识）"
   ]
  },
  {
   "cell_type": "markdown",
   "metadata": {},
   "source": [
    "---"
   ]
  },
  {
   "cell_type": "markdown",
   "metadata": {},
   "source": [
    "## Part 1.5: Python 核心基础快速入门\n",
    "\n",
    "在开始复杂的数学绘图之前，我们需要掌握一些Python最核心的构建模块。这部分内容将帮助你快速建立语言基础。"
   ]
  },
  {
   "cell_type": "markdown",
   "metadata": {},
   "source": [
    "### 1. 数据类型 (Data Types)\n",
    "\n",
    "Python 中有多种数据类型，我们先关注最基本的几种：\n",
    "- **整数 (Integer)**: `1`, `100`, `-5`\n",
    "- **浮点数 (Float)**: `1.0`, `3.14`, `-0.5` (带小数点的数)\n",
    "- **字符串 (String)**: `'你好'`, `\"Hello, World!\"` (文本)\n",
    "- **布尔值 (Boolean)**: `True`, `False` (用于逻辑判断)"
   ]
  },
  {
   "cell_type": "markdown",
   "metadata": {},
   "source": [
    "### 2. 列表 (List)\n",
    "\n",
    "列表是Python中极其有用的数据结构，它是一个有序的集合，可以存放任何类型的数据。你可以把它想象成一个可以随时添加、删除或修改元素的多功能储物柜。\n",
    "\n",
    "**练习**：\n",
    "1. 创建一个包含数字 1, 3, 5, 7, 9 的列表。\n",
    "2. 访问并打印列表中的第三个元素。（提示：在Python中，索引是从0开始的！）"
   ]
  },
  {
   "cell_type": "code",
   "execution_count": null,
   "metadata": {},
   "outputs": [],
   "source": [
    "# 1. 创建一个列表\n",
    "my_numbers = [1, 3, 5, 7, 9]\n",
    "print(\"我的列表是:\", my_numbers)\n",
    "\n",
    "# 2. 访问第三个元素 (索引为2)\n",
    "third_element = my_numbers[2]\n",
    "print(\"列表的第三个元素是:\", third_element)"
   ]
  },
  {
   "cell_type": "markdown",
   "metadata": {},
   "source": [
    "### 3. 循环 (For Loop)\n",
    "\n",
    "循环可以让我们重复执行一段代码。`for` 循环常用于遍历一个序列（比如一个列表）中的每一个元素。\n",
    "\n",
    "**练习**：\n",
    "遍历你上面创建的 `my_numbers` 列表，并打印出每个数字的平方。"
   ]
  },
  {
   "cell_type": "code",
   "execution_count": null,
   "metadata": {},
   "outputs": [],
   "source": [
    "# 遍历列表并计算平方\n",
    "print(\"列表中每个数字的平方是：\")\n",
    "for number in my_numbers:\n",
    "    # 下面这行代码会为列表中的每个数字重复执行\n",
    "    print(number**2)"
   ]
  },
  {
   "cell_type": "markdown",
   "metadata": {},
   "source": [
    "### 4. 条件判断 (If-Else)\n",
    "\n",
    "条件判断允许我们根据某个条件是否为 `True` 来决定执行哪段代码。\n",
    "\n",
    "**练习**：\n",
    "再次遍历 `my_numbers` 列表。如果数字大于5，就打印 `\"[数字] 大于 5\"`；否则，打印 `\"[数字] 小于或等于 5\"`。"
   ]
  },
  {
   "cell_type": "code",
   "execution_count": null,
   "metadata": {},
   "outputs": [],
   "source": [
    "for number in my_numbers:\n",
    "    if number > 5:\n",
    "        print(number, \"大于 5\")\n",
    "    else:\n",
    "        print(number, \"小于或等于 5\")"
   ]
  },
  {
   "cell_type": "markdown",
   "metadata": {},
   "source": [
    "---"
   ]
  },
  {
   "cell_type": "markdown",
   "metadata": {},
   "source": [
    "## Part 2: 绘图与函数\n",
    "\n",
    "### 背景知识：什么是程序库 (Library)？\n",
    "\n",
    "想象一下，你要盖房子。你不需要从零开始制造锤子、钉子和锯子，你可以直接去工具店购买。在编程中，**程序库 (Library)** 就是你的“工具店”。\n",
    "\n",
    "它们是由全世界的开发者编写好的、可重用的代码集合，专门用来解决特定问题。我们通过 `import` 关键字来“借用”这些工具。\n",
    "\n",
    "-   **NumPy**: 这是Python科学计算的核心库。它最强大的功能是提供了一种叫做 `array` 的数据结构，可以让我们对大量的数字进行极速运算。我们之后的所有数学计算都会依赖它。\n",
    "-   **Matplotlib**: 这是Python中最著名、最基础的绘图库。它能让你将数据和函数“可视化”，变成各种图表。\n",
    "\n",
    "运行下面的单元格，导入这两个核心工具。`as np` 和 `as plt` 是社区标准惯例，意思是给它们取一个更短的别名，方便后续调用。"
   ]
  },
  {
   "cell_type": "code",
   "execution_count": null,
   "metadata": {},
   "outputs": [],
   "source": [
    "import numpy as np\n",
    "import matplotlib.pyplot as plt\n",
    "\n",
    "# 这行代码是Jupyter的“魔法命令”，为了确保图像能直接在Notebook中显示\n",
    "%matplotlib inline"
   ]
  },
  {
   "cell_type": "markdown",
   "metadata": {},
   "source": [
    "#### 概念桥梁：计算机如何画出“光滑”的曲线？\n",
    "\n",
    "它其实做不到！计算机的本质是“离散”的，它只能处理一个个的点。它画曲线的秘诀在于“以直代曲”：通过在大量离得非常近的点之间画上许多微小的直线来“伪造”光滑曲线。如果点足够密集，我们的眼睛就会将其感知为一条连续的曲线。这就是 `np.linspace()` 如此重要的原因——它为我们生成了这些密集的、等间距的点。"
   ]
  },
  {
   "cell_type": "markdown",
   "metadata": {},
   "source": [
    "### 任务1：定义并绘制 f(x) = x^2\n",
    "\n",
    "下面我们已经用 `np.linspace()` 生成了从-10到10的100个x点，并计算了对应的y值。现在，请你完成绘图的部分。"
   ]
  },
  {
   "cell_type": "code",
   "execution_count": null,
   "metadata": {},
   "outputs": [],
   "source": [
    "# 1. 生成x数据\n",
    "x = np.linspace(-10, 10, 100)\n",
    "\n",
    "# 2. 计算y数据\n",
    "y = x**2\n",
    "\n",
    "# 3. 绘制图像 (在这里写下你的代码)\n",
    "# 提示：\n",
    "# - 使用 plt.plot(x, y) 来生成基础图像。\n",
    "# - 使用 plt.title(\"你的标题\") 来添加标题。\n",
    "# - 使用 plt.xlabel(\"x轴\") 和 plt.ylabel(\"y轴\") 来添加坐标轴标签。\n",
    "# - 使用 plt.grid(True) 来添加网格线，让图像更容易阅读。\n",
    "# - 最后，使用 plt.show() 来显示你的杰作。\n",
    "\n",
    "# Your code here\n"
   ]
  },
  {
   "cell_type": "markdown",
   "metadata": {},
   "source": [
    "### 任务2：在同一张图上绘制 y = sin(x) 和 y = cos(x)\n",
    "\n",
    "这次，请你尝试在同一张图上绘制两条曲线。"
   ]
  },
  {
   "cell_type": "code",
   "execution_count": null,
   "metadata": {},
   "outputs": [],
   "source": [
    "# 1. 生成x数据，范围从 -2*pi 到 2*pi。\n",
    "# 为了让曲线非常平滑，我们使用400个点。\n",
    "x_trig = np.linspace(-2 * np.pi, 2 * np.pi, 400)\n",
    "\n",
    "# 2. 计算两个函数的y值\n",
    "y_sin = np.sin(x_trig)\n",
    "y_cos = np.cos(x_trig)\n",
    "\n",
    "# 3. 绘制两条曲线 (在这里写下你的代码)\n",
    "# 提示：\n",
    "# - 调用两次 plt.plot() 即可在同一张图上画两条线。\n",
    "# - 为了区分它们，在 plt.plot() 中加入 label 参数，例如: plt.plot(x, y_sin, label='sin(x)')\n",
    "# - 调用 plt.legend() 来显示图例。\n",
    "# - 别忘了标题、坐标轴标签和网格！\n",
    "\n",
    "# Your code here\n"
   ]
  },
  {
   "cell_type": "markdown",
   "metadata": {},
   "source": [
    "### 练习：处理一个棘手的函数\n",
    "\n",
    "**任务**：绘制函数 `f(x) = 1/x`（双曲线）。\n",
    "\n",
    "**思考**：这个函数在 `x=0` 的时候会发生什么？如果你直接生成一个包含0的x范围，程序会报错（除以零错误）。那你应该如何定义x的范围来巧妙地避开这个问题呢？\n",
    "\n",
    "**提示**：可以分两段绘制！一段是负数域（例如从-5到-0.1），另一段是正数域（例如从0.1到5）。然后用两次 `plt.plot()` 把它们画在同一张图上。"
   ]
  },
  {
   "cell_type": "code",
   "execution_count": null,
   "metadata": {},
   "outputs": [],
   "source": [
    "# 在这里写下你的代码\n"
   ]
  },
  {
   "cell_type": "markdown",
   "metadata": {},
   "source": [
    "---"
   ]
  },
  {
   "cell_type": "markdown",
   "metadata": {},
   "source": [
    "## ✅ 第一周通关标准\n",
    "\n",
    "**你的任务**：综合运用本周所学的所有知识，独立完成以下任务。成功导出一张包含`y=x^2`和`y=cos(x)`两条曲线的`.png`图片，图片必须有标题、图例和坐标轴标签。\n",
    "\n",
    "在下面的单元格中，按照步骤提示完成你的代码。"
   ]
  },
  {
   "cell_type": "code",
   "execution_count": null,
   "metadata": {},
   "outputs": [],
   "source": [
    "# 步骤1：生成x值。\n",
    "# - 为 y=x^2 生成一组x值 (例如, 从-10到10)。\n",
    "# - 为 y=cos(x) 生成另一组适合三角函数的x值 (例如, 从-2π到2π)。\n",
    "\n",
    "# 步骤2：计算y值。\n",
    "# - 分别计算两组x值对应的y值。\n",
    "\n",
    "# 步骤3：绘制两条曲线。\n",
    "# - 使用两次 plt.plot()，并为它们分别设置 label。\n",
    "\n",
    "# 步骤4：添加标题、标签和图例。\n",
    "# - 确保你的图表信息完整，易于理解。\n",
    "\n",
    "# 步骤5：保存图像到文件。\n",
    "# - 提示：使用 plt.savefig('week1_milestone.png')。这一步必须在 plt.show() 之前调用！\n",
    "\n",
    "# 步骤6：显示图像。\n",
    "# - 使用 plt.show()。\n",
    "\n",
    "# 在下方开始编写你的代码吧！\n"
   ]
  },
  {
   "cell_type": "markdown",
   "metadata": {},
   "source": [
    "---"
   ]
  },
  {
   "cell_type": "markdown",
   "metadata": {},
   "source": [
    "## 🏆 挑战者任务 (可选)\n",
    "\n",
    "**任务**: 尝试绘制极坐标图像，例如函数 `r = 1 - sin(θ)`（心形线）。\n",
    "\n",
    "**提示**: 这需要用到 Matplotlib 的一个更高级的功能。你需要先创建一个带有“极坐标投影”的子图 (subplot)。\n",
    "\n",
    "**AI 辅助探索问题**：\n",
    "> “How to plot a polar chart in Matplotlib? Can you give me a simple example for the function r = 1 - sin(theta)?”\n",
    "\n",
    "**关键步骤提示**：\n",
    "1.  创建一个带有极坐标投影的画布和坐标轴对象，类似这样：`fig, ax = plt.subplots(subplot_kw={'projection': 'polar'})`\n",
    "2.  生成角度 `theta` (θ) 的值，它应该从 0 到 `2 * np.pi`。\n",
    "3.  根据公式 `r = 1 - np.sin(theta)` 计算 `r` 的值。\n",
    "4.  在极坐标轴上绘图：`ax.plot(theta, r)`\n",
    "5.  添加标题并显示图像。"
   ]
  },
  {
   "cell_type": "code",
   "execution_count": null,
   "metadata": {},
   "outputs": [],
   "source": [
    "# 在这里尝试完成你的挑战者任务！\n"
   ]
  }
 ],
 "metadata": {
  "kernelspec": {
   "display_name": "Python 3",
   "language": "python",
   "name": "python3"
  },
  "language_info": {
   "codemirror_mode": {
    "name": "ipython",
    "version": 3
   },
   "file_extension": ".py",
   "mimetype": "text/x-python",
   "name": "python",
   "nbconvert_exporter": "python",
   "pygments_lexer": "ipython3",
   "version": "3.8.8"
  }
 },
 "nbformat": 4,
 "nbformat_minor": 4
}

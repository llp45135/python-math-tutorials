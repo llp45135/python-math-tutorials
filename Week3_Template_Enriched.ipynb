{
 "cells": [
  {
   "cell_type": "markdown",
   "metadata": {},
   "source": [
    "# Week 3: Unlocking Superpowers - Symbolic Computation & Intro to Integration\n",
    "\n",
    "**Goal**: Master the core functionalities of the `SymPy` library for expression simplification, solving equations, differentiation, and integration. Also, to understand the meaning of definite integrals from first principles by implementing Riemann sums.\n",
    "\n",
    "**Core Philosophy**: Let the computer handle tedious algebraic manipulations and formula derivations, allowing us to focus on understanding the essence and application of mathematical concepts."
   ]
  },
  {
   "cell_type": "markdown",
   "metadata": {},
   "source": [
    "## Part 1: The Magic of Symbolic Computation (SymPy)\n",
    "\n",
    "### Background: Symbolic vs. Numeric Computation\n",
    "\n",
    "Until now, most of our calculations have been **Numeric Computation**. For example, `np.sin(3.14)` directly gives us an approximate floating-point result, `0.00159...`. It deals with concrete \"numbers.\"\n",
    "\n",
    "**Symbolic Computation** is entirely different. It manipulates mathematical \"symbols\" themselves. When you tell it `sin(x)`, it understands that `x` is an abstract symbol, not a specific number. This enables the computer to perform operations like formula derivation, simplification, differentiation, and integration, just as a mathematician would.\n",
    "\n",
    "`SymPy` is the king of symbolic computation in the Python world. It allows us to express and manipulate mathematical objects with perfect precision, using code.\n",
    "\n",
    "---"
   ]
  },
  {
   "cell_type": "code",
   "execution_count": null,
   "metadata": {},
   "outputs": [],
   "source": [
    "import sympy as sp\n",
    "import numpy as np\n",
    "import matplotlib.pyplot as plt\n",
    "\n",
    "%matplotlib inline\n",
    "\n",
    "# This line makes SymPy's output look nice (renders math formulas in LaTeX)\n",
    "sp.init_printing(use_latex='mathjax')"
   ]
  },
  {
   "cell_type": "markdown",
   "metadata": {},
   "source": [
    "### Task 1.1: Defining Symbols & Expressions\n",
    "\n",
    "The first step in using SymPy is to tell it which variables are our \"symbols\" to be manipulated."
   ]
  },
  {
   "cell_type": "code",
   "execution_count": null,
   "metadata": {},
   "outputs": [],
   "source": [
    "# Exercise: Define symbols x, y, and z, and create an expression f = x^2 + 2y + z\n",
    "\n",
    "# 1. Use sp.symbols() to define multiple symbols at once\n",
    "x, y, z = sp.symbols('x y z')\n",
    "\n",
    "# 2. Create the expression\n",
    "f = x**2 + 2*y + z\n",
    "\n",
    "# 3. Use the display() function to render it beautifully\n",
    "# display() is a special function in IPython/Jupyter that is better than print() for rich content objects\n",
    "print(\"My created expression is:\")\n",
    "display(f)"
   ]
  },
  {
   "cell_type": "markdown",
   "metadata": {},
   "source": [
    "### Task 1.2: Expression Manipulation - Expand & Factor\n",
    "\n",
    "SymPy can expand and factor expressions, just like we do by hand."
   ]
  },
  {
   "cell_type": "code",
   "execution_count": null,
   "metadata": {},
   "outputs": [],
   "source": [
    "# Exercise: Expand the expression (x + y)^3\n",
    "expr_to_expand = (x + y)**3\n",
    "expanded_expr = sp.expand(expr_to_expand)\n",
    "print(\"The result of expanding (x+y)^3 is:\")\n",
    "display(expanded_expr)\n",
    "\n",
    "# Exercise: Factor the expression x^3 - x\n",
    "expr_to_factor = x**3 - x\n",
    "factored_expr = sp.factor(expr_to_factor)\n",
    "print(\"\\nThe result of factoring x^3 - x is:\")\n",
    "display(factored_expr)"
   ]
  },
  {
   "cell_type": "markdown",
   "metadata": {},
   "source": [
    "### Task 1.3: Solving Equations\n",
    "\n",
    "`sp.solve()` is a powerful function for solving algebraic equations."
   ]
  },
  {
   "cell_type": "code",
   "execution_count": null,
   "metadata": {},
   "outputs": [],
   "source": [
    "# Exercise: Solve the quadratic equation x^2 - 6x + 8 = 0\n",
    "# Hint: sp.solve() assumes the right-hand side of the equation is 0 by default.\n",
    "equation = x**2 - 6*x + 8\n",
    "solutions = sp.solve(equation, x)\n",
    "\n",
    "print(f\"The solutions to the equation {equation} = 0 are: {solutions}\")"
   ]
  },
  {
   "cell_type": "markdown",
   "metadata": {},
   "source": [
    "### Task 1.4: Calculus - Differentiation & Integration\n",
    "\n",
    "This is arguably one of SymPy's coolest features. It can compute the derivatives and integrals of functions exactly, without numerical approximation."
   ]
  },
  {
   "cell_type": "code",
   "execution_count": null,
   "metadata": {},
   "outputs": [],
   "source": [
    "# Exercise: Calculate the first and second derivatives of f = sin(x) * exp(x)\n",
    "f_calculus = sp.sin(x) * sp.exp(x)\n",
    "print(\"Original function:\")\n",
    "display(f_calculus)\n",
    "\n",
    "# 1. Use sp.diff(function, variable) to find the first derivative\n",
    "df_dx = sp.diff(f_calculus, x)\n",
    "print(\"First derivative:\")\n",
    "display(df_dx)\n",
    "\n",
    "# 2. Use sp.diff(function, variable, order) to find the second derivative\n",
    "d2f_dx2 = sp.diff(f_calculus, x, 2)\n",
    "print(\"Second derivative:\")\n",
    "display(d2f_dx2)\n",
    "\n",
    "# Exercise: Calculate the indefinite integral of cos(x)\n",
    "# Hint: Use sp.integrate(function, variable)\n",
    "indef_integral = sp.integrate(sp.cos(x), x)\n",
    "print(\"\\nThe indefinite integral of cos(x) is:\")\n",
    "display(indef_integral)"
   ]
  },
  {
   "cell_type": "markdown",
   "metadata": {},
   "source": [
    "### Task 1.5: From Symbolic to Numeric - `subs` and `lambdify`\n",
    "\n",
    "Often, after getting a symbolic result, we need to substitute concrete values for calculation or plotting. `subs` and `lambdify` are the bridges connecting the symbolic and numeric worlds.\n",
    "\n",
    "- **`subs(symbol, value)`**: Replaces a symbol in an expression with a specific numeric value.\n",
    "- **`lambdify(symbol, expression)`**: \"Compiles\" a SymPy expression into a fast, numerical function that can be used by NumPy and Matplotlib."
   ]
  },
  {
   "cell_type": "code",
   "execution_count": null,
   "metadata": {},
   "outputs": [],
   "source": [
    "# Exercise: Find the derivative of g(x) = x^3 - 3x and evaluate it at x=2\n",
    "g = x**3 - 3*x\n",
    "dg_dx = sp.diff(g, x)\n",
    "print(\"The derivative of g(x) is:\")\n",
    "display(dg_dx)\n",
    "\n",
    "# Use the subs method to calculate the derivative's value at x=2\n",
    "derivative_at_2 = dg_dx.subs(x, 2)\n",
    "print(f\"The value of the derivative at x=2 is: {derivative_at_2}\")\n",
    "\n",
    "# Exercise: Convert g(x) and its derivative to numerical functions and plot them\n",
    "# 1. Use lambdify\n",
    "# The first argument is the independent variable symbol, the second is the expression\n",
    "g_numeric = sp.lambdify(x, g, 'numpy')\n",
    "dg_dx_numeric = sp.lambdify(x, dg_dx, 'numpy')\n",
    "\n",
    "# 2. Generate x-values for plotting\n",
    "x_vals = np.linspace(-2.5, 2.5, 400)\n",
    "\n",
    "# 3. Plot the graphs\n",
    "plt.figure(figsize=(10, 6))\n",
    "plt.plot(x_vals, g_numeric(x_vals), label='g(x) = x^3 - 3x')\n",
    "plt.plot(x_vals, dg_dx_numeric(x_vals), label=\"g'(x) (Derivative)\", linestyle='--')\n",
    "plt.axhline(0, color='black', linewidth=0.5)\n",
    "plt.title(\"A Function and its Derivative\")\n",
    "plt.xlabel(\"x\")\n",
    "plt.ylabel(\"y\")\n",
    "plt.legend()\n",
    "plt.grid(True)\n",
    "plt.show()\n",
    "\n",
    "print(\"Observation: When the derivative (dashed line) is zero, the original function (solid line) is at a local maximum or minimum.\")"
   ]
  },
  {
   "cell_type": "markdown",
   "metadata": {},
   "source": [
    "---"
   ]
  },
  {
   "cell_type": "markdown",
   "metadata": {},
   "source": [
    "## Part 2: The Essence of Integration (Riemann Sums)\n",
    "\n",
    "### Background: How Riemann Sums Approximate Definite Integrals\n",
    "\n",
    "The geometric meaning of a definite integral `∫[a,b] f(x)dx` is the **area** of the region enclosed by the function's curve `f(x)` and the x-axis over the interval `[a, b]`.\n",
    "\n",
    "The idea of a **Riemann Sum** is to approximate this curved area with the sum of the areas of a series of rectangles. The steps are:\n",
    "1.  Divide the interval `[a, b]` into `n` equal subintervals, each with a width of `Δx = (b - a) / n`.\n",
    "2.  In each subinterval, choose a representative point (e.g., the left endpoint, right endpoint, or midpoint).\n",
    "3.  Use the function's value at this representative point, `f(x*)`, as the height of a rectangle, and `Δx` as its width. Calculate the area of this rectangle.\n",
    "4.  Sum the areas of all `n` rectangles to get the Riemann sum.\n",
    "\n",
    "As `n` gets larger and larger (i.e., the rectangles get narrower), the total area of these rectangles will more and more accurately approach the true area of the integral."
   ]
  },
  {
   "cell_type": "markdown",
   "metadata": {},
   "source": [
    "### Task 2.1: Calculating a Riemann Sum\n",
    "\n",
    "We will calculate the integral of the function `h(x) = 4 - x^2` on the interval `[0, 2]`. The theoretical value is `16/3` (approx. 5.333)."
   ]
  },
  {
   "cell_type": "code",
   "execution_count": null,
   "metadata": {},
   "outputs": [],
   "source": [
    "# Exercise: Complete this function to calculate the left Riemann sum\n",
    "\n",
    "def h(x):\n",
    "    return 4 - x**2\n",
    "\n",
    "def left_riemann_sum(func, a, b, n):\n",
    "    \"\"\"\n",
    "    Calculates the left Riemann sum for a function on the interval [a,b] using n rectangles.\n",
    "    \"\"\"\n",
    "    # 1. Calculate the width of each small rectangle, Δx\n",
    "    delta_x = (b - a) / n\n",
    "    \n",
    "    # 2. Generate the x-coordinates of the left endpoint of each rectangle\n",
    "    # Hint: np.linspace(a, b, n, endpoint=False) generates n evenly spaced points from a to b (not including b).\n",
    "    x_left = np.linspace(a, b, n, endpoint=False)\n",
    "    \n",
    "    # 3. Calculate the height of each rectangle (the function value at the left endpoint)\n",
    "    heights = func(x_left)\n",
    "    \n",
    "    # 4. Calculate the total area of all rectangles\n",
    "    total_area = np.sum(heights * delta_x)\n",
    "    \n",
    "    return total_area\n",
    "\n",
    "# Call your function and observe the approximation process\n",
    "for n in [10, 100, 1000, 10000]:\n",
    "    approximation = left_riemann_sum(h, 0, 2, n)\n",
    "    print(f\"When n = {n:<5}, the Left Riemann Sum is: {approximation:.6f}\")\n",
    "\n",
    "print(f\"\\nThe theoretical value is 16/3 ≈ {16/3:.6f}\")"
   ]
  },
  {
   "cell_type": "markdown",
   "metadata": {},
   "source": [
    "### Task 2.2: Visualizing the Riemann Sum\n",
    "\n",
    "**Task**: Below the graph of `h(x) = 4 - x^2`, use `plt.bar()` to draw the Riemann sum rectangles for `n=10`.\n",
    "\n",
    "**AI-Assisted Exploration Prompt**:\n",
    "> “How to draw Riemann sum rectangles under a curve using Matplotlib? I have the x-coordinates of the left endpoints, the heights of the rectangles, and the width delta_x. Can you show me how to use `plt.bar()`?”"
   ]
  },
  {
   "cell_type": "code",
   "execution_count": null,
   "metadata": {},
   "outputs": [],
   "source": [
    "# Exercise: Visualize the Riemann Sum\n",
    "a, b, n = 0, 2, 10\n",
    "delta_x = (b - a) / n\n",
    "x_left = np.linspace(a, b, n, endpoint=False)\n",
    "heights = h(x_left)\n",
    "\n",
    "# 1. Plot the function's curve\n",
    "x_curve = np.linspace(a, b, 200)\n",
    "y_curve = h(x_curve)\n",
    "plt.figure(figsize=(8, 6))\n",
    "plt.plot(x_curve, y_curve, 'b-', linewidth=2, label='f(x) = 4 - x^2')\n",
    "\n",
    "# 2. Use plt.bar() to draw the rectangles\n",
    "# Hint: plt.bar() needs to know the x-coordinate of the bottom-left corner, the height, the width, and the alignment.\n",
    "plt.bar(x_left, heights, width=delta_x, alpha=0.5, align='edge', edgecolor='black', label=f'Left Riemann Sum (n={n})')\n",
    "\n",
    "# 3. Add chart elements\n",
    "plt.title(\"Visualizing the Riemann Sum\")\n",
    "plt.xlabel(\"x\")\n",
    "plt.ylabel(\"y\")\n",
    "plt.legend()\n",
    "plt.grid(True)\n",
    "plt.show()"
   ]
  },
  {
   "cell_type": "markdown",
   "metadata": {},
   "source": [
    "---"
   ]
  },
  {
   "cell_type": "markdown",
   "metadata": {},
   "source": [
    "## ✅ Week 3 Milestone\n",
    "\n",
    "**Task**: Synthesize what you've learned this week to complete the following two tasks.\n",
    "\n",
    "1.  **Symbolic Task**: Use SymPy to calculate the indefinite integral and the definite integral on the interval `[0, π/2]` for the function `f(x) = x * cos(x)`.\n",
    "2.  **Numeric & Visualization Task**: Write a function to calculate the **Right Riemann Sum**, use it to approximate the integral of `g(x) = x^2` on `[0, 1]` with n=50, and visualize it."
   ]
  },
  {
   "cell_type": "code",
   "execution_count": null,
   "metadata": {},
   "outputs": [],
   "source": [
    "# Write your milestone code here\n"
   ]
  },
  {
   "cell_type": "markdown",
   "metadata": {},
   "source": [
    "---"
   ]
  },
  {
   "cell_type": "markdown",
   "metadata": {},
   "source": [
    "## 🏆 Challenger Task (Optional)\n",
    "\n",
    "**Task**: Explore **Taylor Expansions**.\n",
    "\n",
    "**Background**: The core idea of a Taylor expansion is to approximate a complex function with a polynomial. Near a point `x=a`, a smooth function can be approximated by a polynomial constructed from its derivatives at that point. This polynomial is very close to the original function near `a`.\n",
    "\n",
    "**Exploration Steps**:\n",
    "1.  Use SymPy's `sp.series(expression, x, x0, n)` function to calculate the Taylor expansion of `f(x)=cos(x)` at `x=0` up to the 8th order.\n",
    "2.  The result of `sp.series` will include a term `O(x^n)` representing higher-order infinitesimals. Use the `.removeO()` method to get a pure polynomial.\n",
    "3.  Use `sp.lambdify` to convert both the original function `cos(x)` and the Taylor polynomial you obtained into numerical functions.\n",
    "4.  Use Matplotlib to plot the original function and its Taylor approximation on the same graph. Observe how perfectly they overlap near `x=0` and how the approximation worsens as you move away from 0."
   ]
  },
  {
   "cell_type": "code",
   "execution_count": null,
   "metadata": {},
   "outputs": [],
   "source": [
    "# Write your challenger task code here\n"
   ]
  }
 ],
 "metadata": {
  "kernelspec": {
   "display_name": "Python 3",
   "language": "python",
   "name": "python3"
  },
  "language_info": {
   "codemirror_mode": {
    "name": "ipython",
    "version": 3
   },
   "file_extension": ".py",
   "mimetype": "text/x-python",
   "name": "python",
   "nbconvert_exporter": "python",
   "pygments_lexer": "ipython3",
   "version": "3.8.8"
  }
 },
 "nbformat": 4,
 "nbformat_minor": 4
}
